{
 "cells": [
  {
   "cell_type": "markdown",
   "metadata": {},
   "source": [
    "# Fake Job Postings\n",
    "\n",
    "Link to the source of data: https://www.kaggle.com/shivamb/real-or-fake-fake-jobposting-prediction <br>\n",
    "Sorry for my English please /\\\n",
    "\n",
    "## Data\n",
    "\n",
    "Features list (`Variable`: Definition):\n",
    "\n",
    "- `job_id`: Unique Job ID<br>\n",
    "- `title`: The title of the job ad entry<br>\n",
    "- `location`: Geographical location of the job ad<br>\n",
    "- `department`: Corporate department (e.g. sales)<br>\n",
    "- `salary_range`: Indicative salary range (e.g. $50,000-60,000)<br>\n",
    "- `company_profile`: A brief company description<br>\n",
    "- `description`: The details description of the job ad<br>\n",
    "- `requirements`: Enlisted requirements for the job opening<br>\n",
    "- `benefits`: Enlisted offered benefits by the employer<br>\n",
    "- `telecommuting`: True for telecommuting positions<br>\n",
    "- `has_company_logo`: True if company logo is present<br>\n",
    "- `has_questions`: True if screening questions are present<br>\n",
    "- `employment_type`: Full-type, Part-time, Contract, etc<br>\n",
    "- `required_experience`: Executive, Entry level, Intern, etc<br>\n",
    "- `required_education`: Doctorate, Master’s Degree, Bachelor, etc<br>\n",
    "- `industry`: Automotive, IT, Health care, Real estate, etc<br>\n",
    "- `function`: Consulting, Engineering, Research, Sales etc<br>\n",
    "- `fraudulent`: target - Classification attribute<br>\n",
    "\n",
    "__fake_job_postings.csv__ - the dataset"
   ]
  },
  {
   "cell_type": "code",
   "execution_count": 1,
   "metadata": {},
   "outputs": [],
   "source": [
    "import warnings\n",
    "warnings.filterwarnings('ignore')\n",
    "\n",
    "import string\n",
    "from tqdm import tqdm\n",
    "from collections import Counter\n",
    "from itertools import tee\n",
    "\n",
    "import numpy as np\n",
    "import scipy as sp\n",
    "from scipy import stats\n",
    "from statsmodels.stats.proportion import proportion_confint, proportions_ztest\n",
    "from statsmodels.stats.weightstats import zconfint\n",
    "import pandas as pd\n",
    "import matplotlib.pyplot as plt\n",
    "import matplotlib.gridspec as gridspec\n",
    "import seaborn as sns; sns.set()\n",
    "from plotly.subplots import make_subplots\n",
    "import plotly.graph_objects as go\n",
    "\n",
    "import nltk\n",
    "from nltk.corpus import stopwords\n",
    "from nltk.tokenize import word_tokenize\n",
    "from nltk.stem import PorterStemmer"
   ]
  },
  {
   "cell_type": "markdown",
   "metadata": {},
   "source": [
    "## First look"
   ]
  },
  {
   "cell_type": "code",
   "execution_count": 2,
   "metadata": {
    "scrolled": true
   },
   "outputs": [
    {
     "data": {
      "text/html": [
       "<div>\n",
       "<style scoped>\n",
       "    .dataframe tbody tr th:only-of-type {\n",
       "        vertical-align: middle;\n",
       "    }\n",
       "\n",
       "    .dataframe tbody tr th {\n",
       "        vertical-align: top;\n",
       "    }\n",
       "\n",
       "    .dataframe thead th {\n",
       "        text-align: right;\n",
       "    }\n",
       "</style>\n",
       "<table border=\"1\" class=\"dataframe\">\n",
       "  <thead>\n",
       "    <tr style=\"text-align: right;\">\n",
       "      <th></th>\n",
       "      <th>job_id</th>\n",
       "      <th>title</th>\n",
       "      <th>location</th>\n",
       "      <th>department</th>\n",
       "      <th>salary_range</th>\n",
       "      <th>company_profile</th>\n",
       "      <th>description</th>\n",
       "      <th>requirements</th>\n",
       "      <th>benefits</th>\n",
       "      <th>telecommuting</th>\n",
       "      <th>has_company_logo</th>\n",
       "      <th>has_questions</th>\n",
       "      <th>employment_type</th>\n",
       "      <th>required_experience</th>\n",
       "      <th>required_education</th>\n",
       "      <th>industry</th>\n",
       "      <th>function</th>\n",
       "      <th>fraudulent</th>\n",
       "    </tr>\n",
       "  </thead>\n",
       "  <tbody>\n",
       "    <tr>\n",
       "      <th>0</th>\n",
       "      <td>1</td>\n",
       "      <td>Marketing Intern</td>\n",
       "      <td>US, NY, New York</td>\n",
       "      <td>Marketing</td>\n",
       "      <td>NaN</td>\n",
       "      <td>We're Food52, and we've created a groundbreaki...</td>\n",
       "      <td>Food52, a fast-growing, James Beard Award-winn...</td>\n",
       "      <td>Experience with content management systems a m...</td>\n",
       "      <td>NaN</td>\n",
       "      <td>0</td>\n",
       "      <td>1</td>\n",
       "      <td>0</td>\n",
       "      <td>Other</td>\n",
       "      <td>Internship</td>\n",
       "      <td>NaN</td>\n",
       "      <td>NaN</td>\n",
       "      <td>Marketing</td>\n",
       "      <td>0</td>\n",
       "    </tr>\n",
       "    <tr>\n",
       "      <th>1</th>\n",
       "      <td>2</td>\n",
       "      <td>Customer Service - Cloud Video Production</td>\n",
       "      <td>NZ, , Auckland</td>\n",
       "      <td>Success</td>\n",
       "      <td>NaN</td>\n",
       "      <td>90 Seconds, the worlds Cloud Video Production ...</td>\n",
       "      <td>Organised - Focused - Vibrant - Awesome!Do you...</td>\n",
       "      <td>What we expect from you:Your key responsibilit...</td>\n",
       "      <td>What you will get from usThrough being part of...</td>\n",
       "      <td>0</td>\n",
       "      <td>1</td>\n",
       "      <td>0</td>\n",
       "      <td>Full-time</td>\n",
       "      <td>Not Applicable</td>\n",
       "      <td>NaN</td>\n",
       "      <td>Marketing and Advertising</td>\n",
       "      <td>Customer Service</td>\n",
       "      <td>0</td>\n",
       "    </tr>\n",
       "    <tr>\n",
       "      <th>2</th>\n",
       "      <td>3</td>\n",
       "      <td>Commissioning Machinery Assistant (CMA)</td>\n",
       "      <td>US, IA, Wever</td>\n",
       "      <td>NaN</td>\n",
       "      <td>NaN</td>\n",
       "      <td>Valor Services provides Workforce Solutions th...</td>\n",
       "      <td>Our client, located in Houston, is actively se...</td>\n",
       "      <td>Implement pre-commissioning and commissioning ...</td>\n",
       "      <td>NaN</td>\n",
       "      <td>0</td>\n",
       "      <td>1</td>\n",
       "      <td>0</td>\n",
       "      <td>NaN</td>\n",
       "      <td>NaN</td>\n",
       "      <td>NaN</td>\n",
       "      <td>NaN</td>\n",
       "      <td>NaN</td>\n",
       "      <td>0</td>\n",
       "    </tr>\n",
       "    <tr>\n",
       "      <th>3</th>\n",
       "      <td>4</td>\n",
       "      <td>Account Executive - Washington DC</td>\n",
       "      <td>US, DC, Washington</td>\n",
       "      <td>Sales</td>\n",
       "      <td>NaN</td>\n",
       "      <td>Our passion for improving quality of life thro...</td>\n",
       "      <td>THE COMPANY: ESRI – Environmental Systems Rese...</td>\n",
       "      <td>EDUCATION: Bachelor’s or Master’s in GIS, busi...</td>\n",
       "      <td>Our culture is anything but corporate—we have ...</td>\n",
       "      <td>0</td>\n",
       "      <td>1</td>\n",
       "      <td>0</td>\n",
       "      <td>Full-time</td>\n",
       "      <td>Mid-Senior level</td>\n",
       "      <td>Bachelor's Degree</td>\n",
       "      <td>Computer Software</td>\n",
       "      <td>Sales</td>\n",
       "      <td>0</td>\n",
       "    </tr>\n",
       "    <tr>\n",
       "      <th>4</th>\n",
       "      <td>5</td>\n",
       "      <td>Bill Review Manager</td>\n",
       "      <td>US, FL, Fort Worth</td>\n",
       "      <td>NaN</td>\n",
       "      <td>NaN</td>\n",
       "      <td>SpotSource Solutions LLC is a Global Human Cap...</td>\n",
       "      <td>JOB TITLE: Itemization Review ManagerLOCATION:...</td>\n",
       "      <td>QUALIFICATIONS:RN license in the State of Texa...</td>\n",
       "      <td>Full Benefits Offered</td>\n",
       "      <td>0</td>\n",
       "      <td>1</td>\n",
       "      <td>1</td>\n",
       "      <td>Full-time</td>\n",
       "      <td>Mid-Senior level</td>\n",
       "      <td>Bachelor's Degree</td>\n",
       "      <td>Hospital &amp; Health Care</td>\n",
       "      <td>Health Care Provider</td>\n",
       "      <td>0</td>\n",
       "    </tr>\n",
       "    <tr>\n",
       "      <th>5</th>\n",
       "      <td>6</td>\n",
       "      <td>Accounting Clerk</td>\n",
       "      <td>US, MD,</td>\n",
       "      <td>NaN</td>\n",
       "      <td>NaN</td>\n",
       "      <td>NaN</td>\n",
       "      <td>Job OverviewApex is an environmental consultin...</td>\n",
       "      <td>NaN</td>\n",
       "      <td>NaN</td>\n",
       "      <td>0</td>\n",
       "      <td>0</td>\n",
       "      <td>0</td>\n",
       "      <td>NaN</td>\n",
       "      <td>NaN</td>\n",
       "      <td>NaN</td>\n",
       "      <td>NaN</td>\n",
       "      <td>NaN</td>\n",
       "      <td>0</td>\n",
       "    </tr>\n",
       "    <tr>\n",
       "      <th>6</th>\n",
       "      <td>7</td>\n",
       "      <td>Head of Content (m/f)</td>\n",
       "      <td>DE, BE, Berlin</td>\n",
       "      <td>ANDROIDPIT</td>\n",
       "      <td>20000-28000</td>\n",
       "      <td>Founded in 2009, the Fonpit AG rose with its i...</td>\n",
       "      <td>Your Responsibilities: Manage the English-spea...</td>\n",
       "      <td>Your Know-How:                                ...</td>\n",
       "      <td>Your Benefits: Being part of a fast-growing co...</td>\n",
       "      <td>0</td>\n",
       "      <td>1</td>\n",
       "      <td>1</td>\n",
       "      <td>Full-time</td>\n",
       "      <td>Mid-Senior level</td>\n",
       "      <td>Master's Degree</td>\n",
       "      <td>Online Media</td>\n",
       "      <td>Management</td>\n",
       "      <td>0</td>\n",
       "    </tr>\n",
       "    <tr>\n",
       "      <th>7</th>\n",
       "      <td>8</td>\n",
       "      <td>Lead Guest Service Specialist</td>\n",
       "      <td>US, CA, San Francisco</td>\n",
       "      <td>NaN</td>\n",
       "      <td>NaN</td>\n",
       "      <td>Airenvy’s mission is to provide lucrative yet ...</td>\n",
       "      <td>Who is Airenvy?Hey there! We are seasoned entr...</td>\n",
       "      <td>Experience with CRM software, live chat, and p...</td>\n",
       "      <td>Competitive Pay. You'll be able to eat steak e...</td>\n",
       "      <td>0</td>\n",
       "      <td>1</td>\n",
       "      <td>1</td>\n",
       "      <td>NaN</td>\n",
       "      <td>NaN</td>\n",
       "      <td>NaN</td>\n",
       "      <td>NaN</td>\n",
       "      <td>NaN</td>\n",
       "      <td>0</td>\n",
       "    </tr>\n",
       "    <tr>\n",
       "      <th>8</th>\n",
       "      <td>9</td>\n",
       "      <td>HP BSM SME</td>\n",
       "      <td>US, FL, Pensacola</td>\n",
       "      <td>NaN</td>\n",
       "      <td>NaN</td>\n",
       "      <td>Solutions3 is a woman-owned small business who...</td>\n",
       "      <td>Implementation/Configuration/Testing/Training ...</td>\n",
       "      <td>MUST BE A US CITIZEN.An active TS/SCI clearanc...</td>\n",
       "      <td>NaN</td>\n",
       "      <td>0</td>\n",
       "      <td>1</td>\n",
       "      <td>1</td>\n",
       "      <td>Full-time</td>\n",
       "      <td>Associate</td>\n",
       "      <td>NaN</td>\n",
       "      <td>Information Technology and Services</td>\n",
       "      <td>NaN</td>\n",
       "      <td>0</td>\n",
       "    </tr>\n",
       "    <tr>\n",
       "      <th>9</th>\n",
       "      <td>10</td>\n",
       "      <td>Customer Service Associate - Part Time</td>\n",
       "      <td>US, AZ, Phoenix</td>\n",
       "      <td>NaN</td>\n",
       "      <td>NaN</td>\n",
       "      <td>Novitex Enterprise Solutions, formerly Pitney ...</td>\n",
       "      <td>The Customer Service Associate will be based i...</td>\n",
       "      <td>Minimum Requirements:Minimum of 6 months custo...</td>\n",
       "      <td>NaN</td>\n",
       "      <td>0</td>\n",
       "      <td>1</td>\n",
       "      <td>0</td>\n",
       "      <td>Part-time</td>\n",
       "      <td>Entry level</td>\n",
       "      <td>High School or equivalent</td>\n",
       "      <td>Financial Services</td>\n",
       "      <td>Customer Service</td>\n",
       "      <td>0</td>\n",
       "    </tr>\n",
       "  </tbody>\n",
       "</table>\n",
       "</div>"
      ],
      "text/plain": [
       "   job_id                                      title               location  \\\n",
       "0       1                           Marketing Intern       US, NY, New York   \n",
       "1       2  Customer Service - Cloud Video Production         NZ, , Auckland   \n",
       "2       3    Commissioning Machinery Assistant (CMA)          US, IA, Wever   \n",
       "3       4          Account Executive - Washington DC     US, DC, Washington   \n",
       "4       5                        Bill Review Manager     US, FL, Fort Worth   \n",
       "5       6                           Accounting Clerk               US, MD,    \n",
       "6       7                      Head of Content (m/f)         DE, BE, Berlin   \n",
       "7       8           Lead Guest Service Specialist     US, CA, San Francisco   \n",
       "8       9                                 HP BSM SME      US, FL, Pensacola   \n",
       "9      10    Customer Service Associate - Part Time         US, AZ, Phoenix   \n",
       "\n",
       "   department salary_range                                    company_profile  \\\n",
       "0   Marketing          NaN  We're Food52, and we've created a groundbreaki...   \n",
       "1     Success          NaN  90 Seconds, the worlds Cloud Video Production ...   \n",
       "2         NaN          NaN  Valor Services provides Workforce Solutions th...   \n",
       "3       Sales          NaN  Our passion for improving quality of life thro...   \n",
       "4         NaN          NaN  SpotSource Solutions LLC is a Global Human Cap...   \n",
       "5         NaN          NaN                                                NaN   \n",
       "6  ANDROIDPIT  20000-28000  Founded in 2009, the Fonpit AG rose with its i...   \n",
       "7         NaN          NaN  Airenvy’s mission is to provide lucrative yet ...   \n",
       "8         NaN          NaN  Solutions3 is a woman-owned small business who...   \n",
       "9         NaN          NaN  Novitex Enterprise Solutions, formerly Pitney ...   \n",
       "\n",
       "                                         description  \\\n",
       "0  Food52, a fast-growing, James Beard Award-winn...   \n",
       "1  Organised - Focused - Vibrant - Awesome!Do you...   \n",
       "2  Our client, located in Houston, is actively se...   \n",
       "3  THE COMPANY: ESRI – Environmental Systems Rese...   \n",
       "4  JOB TITLE: Itemization Review ManagerLOCATION:...   \n",
       "5  Job OverviewApex is an environmental consultin...   \n",
       "6  Your Responsibilities: Manage the English-spea...   \n",
       "7  Who is Airenvy?Hey there! We are seasoned entr...   \n",
       "8  Implementation/Configuration/Testing/Training ...   \n",
       "9  The Customer Service Associate will be based i...   \n",
       "\n",
       "                                        requirements  \\\n",
       "0  Experience with content management systems a m...   \n",
       "1  What we expect from you:Your key responsibilit...   \n",
       "2  Implement pre-commissioning and commissioning ...   \n",
       "3  EDUCATION: Bachelor’s or Master’s in GIS, busi...   \n",
       "4  QUALIFICATIONS:RN license in the State of Texa...   \n",
       "5                                                NaN   \n",
       "6  Your Know-How:                                ...   \n",
       "7  Experience with CRM software, live chat, and p...   \n",
       "8  MUST BE A US CITIZEN.An active TS/SCI clearanc...   \n",
       "9  Minimum Requirements:Minimum of 6 months custo...   \n",
       "\n",
       "                                            benefits  telecommuting  \\\n",
       "0                                                NaN              0   \n",
       "1  What you will get from usThrough being part of...              0   \n",
       "2                                                NaN              0   \n",
       "3  Our culture is anything but corporate—we have ...              0   \n",
       "4                              Full Benefits Offered              0   \n",
       "5                                                NaN              0   \n",
       "6  Your Benefits: Being part of a fast-growing co...              0   \n",
       "7  Competitive Pay. You'll be able to eat steak e...              0   \n",
       "8                                                NaN              0   \n",
       "9                                                NaN              0   \n",
       "\n",
       "   has_company_logo  has_questions employment_type required_experience  \\\n",
       "0                 1              0           Other          Internship   \n",
       "1                 1              0       Full-time      Not Applicable   \n",
       "2                 1              0             NaN                 NaN   \n",
       "3                 1              0       Full-time    Mid-Senior level   \n",
       "4                 1              1       Full-time    Mid-Senior level   \n",
       "5                 0              0             NaN                 NaN   \n",
       "6                 1              1       Full-time    Mid-Senior level   \n",
       "7                 1              1             NaN                 NaN   \n",
       "8                 1              1       Full-time           Associate   \n",
       "9                 1              0       Part-time         Entry level   \n",
       "\n",
       "          required_education                             industry  \\\n",
       "0                        NaN                                  NaN   \n",
       "1                        NaN            Marketing and Advertising   \n",
       "2                        NaN                                  NaN   \n",
       "3          Bachelor's Degree                    Computer Software   \n",
       "4          Bachelor's Degree               Hospital & Health Care   \n",
       "5                        NaN                                  NaN   \n",
       "6            Master's Degree                         Online Media   \n",
       "7                        NaN                                  NaN   \n",
       "8                        NaN  Information Technology and Services   \n",
       "9  High School or equivalent                   Financial Services   \n",
       "\n",
       "               function  fraudulent  \n",
       "0             Marketing           0  \n",
       "1      Customer Service           0  \n",
       "2                   NaN           0  \n",
       "3                 Sales           0  \n",
       "4  Health Care Provider           0  \n",
       "5                   NaN           0  \n",
       "6            Management           0  \n",
       "7                   NaN           0  \n",
       "8                   NaN           0  \n",
       "9      Customer Service           0  "
      ]
     },
     "execution_count": 2,
     "metadata": {},
     "output_type": "execute_result"
    }
   ],
   "source": [
    "data = pd.read_csv('fake_job_postings.csv')\n",
    "data.head(10)"
   ]
  },
  {
   "cell_type": "code",
   "execution_count": 3,
   "metadata": {},
   "outputs": [
    {
     "name": "stdout",
     "output_type": "stream",
     "text": [
      "<class 'pandas.core.frame.DataFrame'>\n",
      "RangeIndex: 17880 entries, 0 to 17879\n",
      "Data columns (total 18 columns):\n",
      " #   Column               Non-Null Count  Dtype \n",
      "---  ------               --------------  ----- \n",
      " 0   job_id               17880 non-null  int64 \n",
      " 1   title                17880 non-null  object\n",
      " 2   location             17534 non-null  object\n",
      " 3   department           6333 non-null   object\n",
      " 4   salary_range         2868 non-null   object\n",
      " 5   company_profile      14572 non-null  object\n",
      " 6   description          17879 non-null  object\n",
      " 7   requirements         15185 non-null  object\n",
      " 8   benefits             10670 non-null  object\n",
      " 9   telecommuting        17880 non-null  int64 \n",
      " 10  has_company_logo     17880 non-null  int64 \n",
      " 11  has_questions        17880 non-null  int64 \n",
      " 12  employment_type      14409 non-null  object\n",
      " 13  required_experience  10830 non-null  object\n",
      " 14  required_education   9775 non-null   object\n",
      " 15  industry             12977 non-null  object\n",
      " 16  function             11425 non-null  object\n",
      " 17  fraudulent           17880 non-null  int64 \n",
      "dtypes: int64(5), object(13)\n",
      "memory usage: 2.5+ MB\n"
     ]
    }
   ],
   "source": [
    "data.info()"
   ]
  },
  {
   "cell_type": "markdown",
   "metadata": {},
   "source": [
    "There are many NA-values in the table and there are features that have to be preprocessed for further usage. Let's save names of text features and of features which need to be worked on:"
   ]
  },
  {
   "cell_type": "code",
   "execution_count": 4,
   "metadata": {},
   "outputs": [],
   "source": [
    "text_features = ['title', 'company_profile', 'description', 'requirements', 'benefits']\n",
    "complex_features = ['location', 'salary_range']"
   ]
  },
  {
   "cell_type": "markdown",
   "metadata": {},
   "source": [
    "And drop `job_id`, it's useless."
   ]
  },
  {
   "cell_type": "code",
   "execution_count": 5,
   "metadata": {},
   "outputs": [],
   "source": [
    "data.drop('job_id', axis=1, inplace=True)"
   ]
  },
  {
   "cell_type": "markdown",
   "metadata": {},
   "source": [
    "## Feature preparation\n",
    "\n",
    "### Text features\n",
    "\n",
    "Features that describe textual components of job post:"
   ]
  },
  {
   "cell_type": "code",
   "execution_count": 6,
   "metadata": {},
   "outputs": [
    {
     "data": {
      "text/html": [
       "<div>\n",
       "<style scoped>\n",
       "    .dataframe tbody tr th:only-of-type {\n",
       "        vertical-align: middle;\n",
       "    }\n",
       "\n",
       "    .dataframe tbody tr th {\n",
       "        vertical-align: top;\n",
       "    }\n",
       "\n",
       "    .dataframe thead th {\n",
       "        text-align: right;\n",
       "    }\n",
       "</style>\n",
       "<table border=\"1\" class=\"dataframe\">\n",
       "  <thead>\n",
       "    <tr style=\"text-align: right;\">\n",
       "      <th></th>\n",
       "      <th>title</th>\n",
       "      <th>company_profile</th>\n",
       "      <th>description</th>\n",
       "      <th>requirements</th>\n",
       "      <th>benefits</th>\n",
       "    </tr>\n",
       "  </thead>\n",
       "  <tbody>\n",
       "    <tr>\n",
       "      <th>0</th>\n",
       "      <td>Marketing Intern</td>\n",
       "      <td>We're Food52, and we've created a groundbreaki...</td>\n",
       "      <td>Food52, a fast-growing, James Beard Award-winn...</td>\n",
       "      <td>Experience with content management systems a m...</td>\n",
       "      <td>NaN</td>\n",
       "    </tr>\n",
       "    <tr>\n",
       "      <th>1</th>\n",
       "      <td>Customer Service - Cloud Video Production</td>\n",
       "      <td>90 Seconds, the worlds Cloud Video Production ...</td>\n",
       "      <td>Organised - Focused - Vibrant - Awesome!Do you...</td>\n",
       "      <td>What we expect from you:Your key responsibilit...</td>\n",
       "      <td>What you will get from usThrough being part of...</td>\n",
       "    </tr>\n",
       "    <tr>\n",
       "      <th>2</th>\n",
       "      <td>Commissioning Machinery Assistant (CMA)</td>\n",
       "      <td>Valor Services provides Workforce Solutions th...</td>\n",
       "      <td>Our client, located in Houston, is actively se...</td>\n",
       "      <td>Implement pre-commissioning and commissioning ...</td>\n",
       "      <td>NaN</td>\n",
       "    </tr>\n",
       "    <tr>\n",
       "      <th>3</th>\n",
       "      <td>Account Executive - Washington DC</td>\n",
       "      <td>Our passion for improving quality of life thro...</td>\n",
       "      <td>THE COMPANY: ESRI – Environmental Systems Rese...</td>\n",
       "      <td>EDUCATION: Bachelor’s or Master’s in GIS, busi...</td>\n",
       "      <td>Our culture is anything but corporate—we have ...</td>\n",
       "    </tr>\n",
       "    <tr>\n",
       "      <th>4</th>\n",
       "      <td>Bill Review Manager</td>\n",
       "      <td>SpotSource Solutions LLC is a Global Human Cap...</td>\n",
       "      <td>JOB TITLE: Itemization Review ManagerLOCATION:...</td>\n",
       "      <td>QUALIFICATIONS:RN license in the State of Texa...</td>\n",
       "      <td>Full Benefits Offered</td>\n",
       "    </tr>\n",
       "  </tbody>\n",
       "</table>\n",
       "</div>"
      ],
      "text/plain": [
       "                                       title  \\\n",
       "0                           Marketing Intern   \n",
       "1  Customer Service - Cloud Video Production   \n",
       "2    Commissioning Machinery Assistant (CMA)   \n",
       "3          Account Executive - Washington DC   \n",
       "4                        Bill Review Manager   \n",
       "\n",
       "                                     company_profile  \\\n",
       "0  We're Food52, and we've created a groundbreaki...   \n",
       "1  90 Seconds, the worlds Cloud Video Production ...   \n",
       "2  Valor Services provides Workforce Solutions th...   \n",
       "3  Our passion for improving quality of life thro...   \n",
       "4  SpotSource Solutions LLC is a Global Human Cap...   \n",
       "\n",
       "                                         description  \\\n",
       "0  Food52, a fast-growing, James Beard Award-winn...   \n",
       "1  Organised - Focused - Vibrant - Awesome!Do you...   \n",
       "2  Our client, located in Houston, is actively se...   \n",
       "3  THE COMPANY: ESRI – Environmental Systems Rese...   \n",
       "4  JOB TITLE: Itemization Review ManagerLOCATION:...   \n",
       "\n",
       "                                        requirements  \\\n",
       "0  Experience with content management systems a m...   \n",
       "1  What we expect from you:Your key responsibilit...   \n",
       "2  Implement pre-commissioning and commissioning ...   \n",
       "3  EDUCATION: Bachelor’s or Master’s in GIS, busi...   \n",
       "4  QUALIFICATIONS:RN license in the State of Texa...   \n",
       "\n",
       "                                            benefits  \n",
       "0                                                NaN  \n",
       "1  What you will get from usThrough being part of...  \n",
       "2                                                NaN  \n",
       "3  Our culture is anything but corporate—we have ...  \n",
       "4                              Full Benefits Offered  "
      ]
     },
     "execution_count": 6,
     "metadata": {},
     "output_type": "execute_result"
    }
   ],
   "source": [
    "data[text_features].head()"
   ]
  },
  {
   "cell_type": "markdown",
   "metadata": {},
   "source": [
    "Let's fill NA-values with a string-marker that will indicate the absence of a `title`, `description` and so on:"
   ]
  },
  {
   "cell_type": "code",
   "execution_count": 7,
   "metadata": {},
   "outputs": [],
   "source": [
    "data[text_features].fillna('ValueWasntSpecified', inplace=True)\n",
    "for feature_name in text_features:\n",
    "    data[feature_name].fillna('ValueWasntSpecified', inplace=True)"
   ]
  },
  {
   "cell_type": "markdown",
   "metadata": {},
   "source": [
    "Now we have to clean our texts from punctuation marks and stop-words, and apply stemming:"
   ]
  },
  {
   "cell_type": "code",
   "execution_count": 8,
   "metadata": {},
   "outputs": [],
   "source": [
    "# nltk.download('stopwords')\n",
    "# nltk.download('punkt')"
   ]
  },
  {
   "cell_type": "code",
   "execution_count": 9,
   "metadata": {},
   "outputs": [],
   "source": [
    "nltk_supported_languages = ['hungarian', 'swedish', 'kazakh', 'norwegian',\n",
    "                            'finnish', 'arabic', 'indonesian', 'portuguese',\n",
    "                            'turkish', 'azerbaijani', 'slovene', 'spanish',\n",
    "                            'danish', 'nepali', 'romanian', 'greek', 'dutch',\n",
    "                            'tajik', 'german', 'english', 'russian',\n",
    "                            'french', 'italian']"
   ]
  },
  {
   "cell_type": "code",
   "execution_count": 10,
   "metadata": {},
   "outputs": [],
   "source": [
    "# loading stop words list\n",
    "stop_words = set(stopwords.words(nltk_supported_languages))"
   ]
  },
  {
   "cell_type": "code",
   "execution_count": 11,
   "metadata": {},
   "outputs": [],
   "source": [
    "# initialising stemmer\n",
    "porter = PorterStemmer()"
   ]
  },
  {
   "cell_type": "code",
   "execution_count": 12,
   "metadata": {},
   "outputs": [],
   "source": [
    "def preprocess_texts(texts):\n",
    "    '''Returns a list of clean and word-stemmed strings.'''\n",
    "    preprocessed_texts = []\n",
    "    for text in tqdm(texts):\n",
    "        # punctuation marks cleaning\n",
    "        text = ''.join([sym.lower() for sym in text if sym.isalpha() or sym == ' '])\n",
    "        \n",
    "        # tokenization\n",
    "        tokenized_text = word_tokenize(text)\n",
    "        \n",
    "        # stop words cleaning\n",
    "        tokenized_text_wout_sw = [word for word in tokenized_text if word not in stop_words]\n",
    "        \n",
    "        # stemming\n",
    "        tokenized_text_wout_sw_stem = [porter.stem(word) for word in tokenized_text_wout_sw]\n",
    "        \n",
    "        # saving result\n",
    "        preprocessed_texts += [' '.join(tokenized_text_wout_sw_stem)]\n",
    "    \n",
    "    return preprocessed_texts"
   ]
  },
  {
   "cell_type": "code",
   "execution_count": 13,
   "metadata": {
    "scrolled": false
   },
   "outputs": [
    {
     "name": "stderr",
     "output_type": "stream",
     "text": [
      "100%|██████████| 17880/17880 [00:04<00:00, 3619.11it/s]\n",
      "100%|██████████| 17880/17880 [00:45<00:00, 395.84it/s]\n",
      "100%|██████████| 17880/17880 [01:19<00:00, 224.43it/s]\n",
      "100%|██████████| 17880/17880 [00:40<00:00, 444.10it/s]\n",
      "100%|██████████| 17880/17880 [00:16<00:00, 1095.93it/s]"
     ]
    },
    {
     "name": "stdout",
     "output_type": "stream",
     "text": [
      "CPU times: user 3min 3s, sys: 1.48 s, total: 3min 5s\n",
      "Wall time: 3min 6s\n"
     ]
    },
    {
     "name": "stderr",
     "output_type": "stream",
     "text": [
      "\n"
     ]
    },
    {
     "data": {
      "text/html": [
       "<div>\n",
       "<style scoped>\n",
       "    .dataframe tbody tr th:only-of-type {\n",
       "        vertical-align: middle;\n",
       "    }\n",
       "\n",
       "    .dataframe tbody tr th {\n",
       "        vertical-align: top;\n",
       "    }\n",
       "\n",
       "    .dataframe thead th {\n",
       "        text-align: right;\n",
       "    }\n",
       "</style>\n",
       "<table border=\"1\" class=\"dataframe\">\n",
       "  <thead>\n",
       "    <tr style=\"text-align: right;\">\n",
       "      <th></th>\n",
       "      <th>title</th>\n",
       "      <th>company_profile</th>\n",
       "      <th>description</th>\n",
       "      <th>requirements</th>\n",
       "      <th>benefits</th>\n",
       "    </tr>\n",
       "  </thead>\n",
       "  <tbody>\n",
       "    <tr>\n",
       "      <th>0</th>\n",
       "      <td>market intern</td>\n",
       "      <td>food weve creat groundbreak awardwin cook site...</td>\n",
       "      <td>food fastgrow jame beard awardwin onlin food c...</td>\n",
       "      <td>experi content manag system major plu blog cou...</td>\n",
       "      <td>valuewasntspecifi</td>\n",
       "    </tr>\n",
       "    <tr>\n",
       "      <th>1</th>\n",
       "      <td>custom servic cloud video product</td>\n",
       "      <td>second world cloud video product servic second...</td>\n",
       "      <td>organis focus vibrant awesomedo passion custom...</td>\n",
       "      <td>expect youyour key respons commun client secon...</td>\n",
       "      <td>get usthrough part second team gainexperi work...</td>\n",
       "    </tr>\n",
       "    <tr>\n",
       "      <th>2</th>\n",
       "      <td>commiss machineri assist cma</td>\n",
       "      <td>valor servic provid workforc solut meet need c...</td>\n",
       "      <td>client locat houston activ seek experienc comm...</td>\n",
       "      <td>implement precommiss commiss procedur rotari e...</td>\n",
       "      <td>valuewasntspecifi</td>\n",
       "    </tr>\n",
       "    <tr>\n",
       "      <th>3</th>\n",
       "      <td>account execut washington dc</td>\n",
       "      <td>passion improv qualiti life geographi heart ev...</td>\n",
       "      <td>compani esri environment system research insti...</td>\n",
       "      <td>educationbachelor master gi busi administr rel...</td>\n",
       "      <td>cultur anyth corporatew collabor creativ envir...</td>\n",
       "    </tr>\n",
       "    <tr>\n",
       "      <th>4</th>\n",
       "      <td>bill review manag</td>\n",
       "      <td>spotsourc solut llc global human capit manag c...</td>\n",
       "      <td>job titl item review managerloc fort worth tx ...</td>\n",
       "      <td>qualificationsrn licens state texasdiploma bac...</td>\n",
       "      <td>full benefit offer</td>\n",
       "    </tr>\n",
       "  </tbody>\n",
       "</table>\n",
       "</div>"
      ],
      "text/plain": [
       "                               title  \\\n",
       "0                      market intern   \n",
       "1  custom servic cloud video product   \n",
       "2       commiss machineri assist cma   \n",
       "3       account execut washington dc   \n",
       "4                  bill review manag   \n",
       "\n",
       "                                     company_profile  \\\n",
       "0  food weve creat groundbreak awardwin cook site...   \n",
       "1  second world cloud video product servic second...   \n",
       "2  valor servic provid workforc solut meet need c...   \n",
       "3  passion improv qualiti life geographi heart ev...   \n",
       "4  spotsourc solut llc global human capit manag c...   \n",
       "\n",
       "                                         description  \\\n",
       "0  food fastgrow jame beard awardwin onlin food c...   \n",
       "1  organis focus vibrant awesomedo passion custom...   \n",
       "2  client locat houston activ seek experienc comm...   \n",
       "3  compani esri environment system research insti...   \n",
       "4  job titl item review managerloc fort worth tx ...   \n",
       "\n",
       "                                        requirements  \\\n",
       "0  experi content manag system major plu blog cou...   \n",
       "1  expect youyour key respons commun client secon...   \n",
       "2  implement precommiss commiss procedur rotari e...   \n",
       "3  educationbachelor master gi busi administr rel...   \n",
       "4  qualificationsrn licens state texasdiploma bac...   \n",
       "\n",
       "                                            benefits  \n",
       "0                                  valuewasntspecifi  \n",
       "1  get usthrough part second team gainexperi work...  \n",
       "2                                  valuewasntspecifi  \n",
       "3  cultur anyth corporatew collabor creativ envir...  \n",
       "4                                 full benefit offer  "
      ]
     },
     "execution_count": 13,
     "metadata": {},
     "output_type": "execute_result"
    }
   ],
   "source": [
    "%%time\n",
    "for feature_name in text_features:\n",
    "    data[feature_name] = preprocess_texts(data[feature_name])\n",
    "\n",
    "data[text_features].head()"
   ]
  },
  {
   "cell_type": "markdown",
   "metadata": {},
   "source": [
    "Done! Now move on to complex features."
   ]
  },
  {
   "cell_type": "markdown",
   "metadata": {},
   "source": [
    "### Complex features\n",
    "\n",
    "#### `location`\n",
    "\n",
    "The main structure of `location`'s values is `Country, State, City`:"
   ]
  },
  {
   "cell_type": "code",
   "execution_count": 14,
   "metadata": {},
   "outputs": [
    {
     "data": {
      "text/plain": [
       "0          US, NY, New York\n",
       "1            NZ, , Auckland\n",
       "2             US, IA, Wever\n",
       "3        US, DC, Washington\n",
       "4        US, FL, Fort Worth\n",
       "5                  US, MD, \n",
       "6            DE, BE, Berlin\n",
       "7     US, CA, San Francisco\n",
       "8         US, FL, Pensacola\n",
       "9           US, AZ, Phoenix\n",
       "10      US, NJ, Jersey City\n",
       "11          GB, LND, London\n",
       "12         US, CT, Stamford\n",
       "13          US, FL, Orlando\n",
       "14          AU, NSW, Sydney\n",
       "Name: location, dtype: object"
      ]
     },
     "execution_count": 14,
     "metadata": {},
     "output_type": "execute_result"
    }
   ],
   "source": [
    "location = data['location'].copy()\n",
    "location.head(15)"
   ]
  },
  {
   "cell_type": "markdown",
   "metadata": {},
   "source": [
    "Let's divide and extract these elements. We will use them as a categorical features in the future."
   ]
  },
  {
   "cell_type": "code",
   "execution_count": 15,
   "metadata": {},
   "outputs": [
    {
     "data": {
      "text/plain": [
       "[['US', 'NY', 'New York'],\n",
       " ['NZ', '', 'Auckland'],\n",
       " ['US', 'IA', 'Wever'],\n",
       " ['US', 'DC', 'Washington'],\n",
       " ['US', 'FL', 'Fort Worth'],\n",
       " ['US', 'MD', ''],\n",
       " ['DE', 'BE', 'Berlin'],\n",
       " ['US', 'CA', 'San Francisco'],\n",
       " ['US', 'FL', 'Pensacola'],\n",
       " ['US', 'AZ', 'Phoenix'],\n",
       " ['US', 'NJ', 'Jersey City'],\n",
       " ['GB', 'LND', 'London'],\n",
       " ['US', 'CT', 'Stamford'],\n",
       " ['US', 'FL', 'Orlando'],\n",
       " ['AU', 'NSW', 'Sydney']]"
      ]
     },
     "execution_count": 15,
     "metadata": {},
     "output_type": "execute_result"
    }
   ],
   "source": [
    "location_splitted = list(location.str.split(', ').values)\n",
    "location_splitted[:15]"
   ]
  },
  {
   "cell_type": "markdown",
   "metadata": {},
   "source": [
    "Filling in missing values:"
   ]
  },
  {
   "cell_type": "code",
   "execution_count": 16,
   "metadata": {},
   "outputs": [],
   "source": [
    "for loc_ind, loc in enumerate(location_splitted):\n",
    "    if loc is np.nan:\n",
    "        location_splitted[loc_ind] = ['ValueWasntSpecified'] * 3\n",
    "    else:\n",
    "        for el_ind, el in enumerate(loc):\n",
    "            if el == '':\n",
    "                loc[el_ind] = 'ValueWasntSpecified'"
   ]
  },
  {
   "cell_type": "code",
   "execution_count": 17,
   "metadata": {},
   "outputs": [
    {
     "data": {
      "text/plain": [
       "[['US', 'NY', 'New York'],\n",
       " ['NZ', 'ValueWasntSpecified', 'Auckland'],\n",
       " ['US', 'IA', 'Wever'],\n",
       " ['US', 'DC', 'Washington'],\n",
       " ['US', 'FL', 'Fort Worth'],\n",
       " ['US', 'MD', 'ValueWasntSpecified'],\n",
       " ['DE', 'BE', 'Berlin'],\n",
       " ['US', 'CA', 'San Francisco'],\n",
       " ['US', 'FL', 'Pensacola'],\n",
       " ['US', 'AZ', 'Phoenix'],\n",
       " ['US', 'NJ', 'Jersey City'],\n",
       " ['GB', 'LND', 'London'],\n",
       " ['US', 'CT', 'Stamford'],\n",
       " ['US', 'FL', 'Orlando'],\n",
       " ['AU', 'NSW', 'Sydney']]"
      ]
     },
     "execution_count": 17,
     "metadata": {},
     "output_type": "execute_result"
    }
   ],
   "source": [
    "location_splitted[:15]"
   ]
  },
  {
   "cell_type": "markdown",
   "metadata": {},
   "source": [
    "But there are some troubles:"
   ]
  },
  {
   "cell_type": "code",
   "execution_count": 18,
   "metadata": {},
   "outputs": [
    {
     "data": {
      "text/plain": [
       "True"
      ]
     },
     "execution_count": 18,
     "metadata": {},
     "output_type": "execute_result"
    }
   ],
   "source": [
    "any([len(loc) > 3 for loc in location_splitted])"
   ]
  },
  {
   "cell_type": "code",
   "execution_count": 19,
   "metadata": {},
   "outputs": [
    {
     "data": {
      "text/plain": [
       "True"
      ]
     },
     "execution_count": 19,
     "metadata": {},
     "output_type": "execute_result"
    }
   ],
   "source": [
    "any([len(loc) < 3 for loc in location_splitted])"
   ]
  },
  {
   "cell_type": "markdown",
   "metadata": {},
   "source": [
    "Not all values of `location` were described in 3 elements. Let's look at unusual values:"
   ]
  },
  {
   "cell_type": "code",
   "execution_count": 20,
   "metadata": {},
   "outputs": [
    {
     "name": "stdout",
     "output_type": "stream",
     "text": [
      "16 ['IL', 'ValueWasntSpecified', 'Tel Aviv', 'Israel']\n",
      "69 ['US', 'CA', 'Menlo Park', 'CA']\n",
      "98 ['US', 'ValueWasntSpecified', 'Stocton', 'CA']\n",
      "215 ['US', 'CA', 'Bakersfield', 'CA / Mt. Poso']\n",
      "219 ['SA', '01', 'Riyadh', 'Olaya']\n",
      "314 ['EG', 'C', 'Cairo', 'Nasr City']\n",
      "343 ['GR', 'I', 'Neo Iraklio', 'Athens']\n",
      "440 ['GB', 'UKM', 'Stockholm', 'Sweden']\n",
      "695 ['GB', 'ValueWasntSpecified', 'Angel', 'London']\n",
      "980 ['US', 'CO', 'Boulder', 'CO']\n",
      "1725 ['US', 'TX', 'Austin', 'San Antonio', 'Houston']\n",
      "2015 ['EG', 'C', 'Cairo', 'Nasr City']\n",
      "2094 ['US', 'NJ', 'Hillside', 'NJ']\n",
      "2320 ['GR', 'I', 'Vrilissia ', 'Greece']\n",
      "2362 ['GR', 'E', 'Larisa', 'Volos']\n",
      "2694 ['GR', 'I', 'Chalandri', 'Athens']\n",
      "2745 ['US', 'NJ', 'Whitehouse station', 'ValueWasntSpecified']\n",
      "2947 ['US', 'DC', 'Washington', 'DC']\n",
      "3062 ['US', 'CA', 'Salinas', 'CA']\n",
      "3451 ['US', 'CA', 'Fresno', 'CA']\n",
      "3630 ['SA', '01', 'Riyadh', 'Olaya']\n",
      "4073 ['US', 'FL', 'Okeechobee', 'FL']\n",
      "4117 ['GR', 'I', 'Athens', 'Rouf']\n",
      "4221 ['CA', 'ValueWasntSpecified', 'Rio Rancho', 'NM']\n",
      "4333 ['GR', 'I', 'Kifisia', 'Athens']\n",
      "4396 ['US', 'MI', 'Hartford', 'Paw Paw', 'Lawton']\n",
      "4480 ['US', 'CA', 'San Jose', 'SFO', 'Austin', 'OH']\n",
      "4527 ['US', 'NJ', 'Lakewood,Brick,Toms River', 'Jackson,']\n",
      "4585 ['GR', 'I', 'Kifisia', 'Athens']\n",
      "4588 ['GR', 'I', 'Kifisia', 'Athens']\n",
      "4638 ['GB', 'ValueWasntSpecified', 'Grange Moore', 'Wakefield']\n",
      "4650 ['US', 'FL', 'Central Fl', 'Nort Fl', 'Georgia', 'Alabama', 'Tennessee,South Carolina,North Carolina']\n",
      "4753 ['US', 'CA', 'Palo Alto ', 'CA']\n",
      "5344 ['GR', 'I', 'Acharnes', 'Athens']\n",
      "5345 ['US', 'CA', 'San Francisco', 'CA']\n",
      "5838 ['US', 'CA', 'Bakersfield', 'CA']\n",
      "6307 ['GR', 'I', 'Vrilissia', 'Athens']\n",
      "6524 ['US', 'GA', 'Alpharetta', 'GA']\n",
      "6767 ['US', 'CA', 'Palo Alto', 'ValueWasntSpecified']\n",
      "6856 ['PH', 'ValueWasntSpecified', 'Makati', 'Philippines']\n",
      "7030 ['GR', 'I', 'Vrilissia', 'Athens']\n",
      "7893 ['US', 'CA', 'Fresno', 'CA']\n",
      "8165 ['PH', '00', 'Northgate Cyberzone', 'Alabang']\n",
      "8235 ['IN', 'KA', 'Domlur', 'Bangalore']\n",
      "8993 ['US', 'DC', 'Washington', 'D.C.']\n",
      "9033 ['GB', 'ValueWasntSpecified', 'Madrid', 'Spain | London']\n",
      "9195 ['US', 'NY', 'Brooklyn', 'NY']\n",
      "9263 ['US', 'CA', 'Bakersfield', 'CA / Mt. Poso']\n",
      "9442 ['GB', 'WKF', 'Grange Moore', 'Wakefield']\n",
      "9488 ['EG', 'C', 'Cairo', 'Nasr City']\n",
      "9516 ['US', 'NY', 'Long Island City', 'NY']\n",
      "9564 ['GB', 'LND', 'Camden', 'London']\n",
      "9687 ['IN', 'KL', 'kakanad', 'cochi']\n",
      "9768 ['GB', 'ValueWasntSpecified', 'Soho', 'London']\n",
      "9828 ['GB', 'UKM', 'Stockholm', 'Sweden']\n",
      "9878 ['US', 'ValueWasntSpecified', 'Stocton', 'CA']\n",
      "10002 ['EG', 'C', 'Cairo', 'Nasr City']\n",
      "10089 ['GB', 'ValueWasntSpecified', 'Soho', 'London']\n",
      "10592 ['PH', '00', 'Northgate Cyberzone', 'Alabang']\n",
      "10619 ['GB', 'ValueWasntSpecified', 'Soho', 'London']\n",
      "10815 ['GB', 'ValueWasntSpecified', 'Grange Moore', 'Wakefield']\n",
      "10825 ['US', 'CA', 'Sacramento', 'ca']\n",
      "10921 ['GB', 'ValueWasntSpecified', 'Stockholm', 'Sweden']\n",
      "11000 ['GB', 'ValueWasntSpecified', 'Grange Moore', 'Wakefield']\n",
      "11029 ['PH', '00', 'Northgate Cyberzone', 'Alabang']\n",
      "11323 ['EG', 'C', 'Cairo', 'Nasr City']\n",
      "11505 ['US', 'ValueWasntSpecified', 'Denver', 'CO']\n",
      "11645 ['EG', 'C', 'Cairo', 'Nasr City']\n",
      "11739 ['US', 'CA', 'Bakersfield', 'CA']\n",
      "11754 ['US', 'CA', 'Bakersfield', 'CA']\n",
      "11756 ['US', 'CA', 'Bakersfield', 'CA']\n",
      "11810 ['US', 'MD', 'Baltimore', 'ValueWasntSpecified']\n",
      "11987 ['US', 'CA', 'Los Angeles', 'Anaheim', 'San Diego']\n",
      "12057 ['US', 'ValueWasntSpecified', 'Portsmouth', 'NH']\n",
      "12103 ['GB', 'ValueWasntSpecified', 'Madrid', 'Spain | London']\n",
      "12156 ['GB', 'MLN', 'Edinburgh Central', 'South and South East']\n",
      "12327 ['US', 'ValueWasntSpecified', 'Irvine', 'California']\n",
      "12383 ['NL', 'ZH', 'Rotterdam', 'The Hague', 'Utrecht', 'Amsterdam']\n",
      "12467 ['US', 'NJ', 'Lakewood,Brick,Toms River', 'Jackson,']\n",
      "12785 ['EG', 'C', 'Cairo', 'Nasr City']\n",
      "12831 ['US', 'ValueWasntSpecified', 'Brooklyn', 'NY']\n",
      "12982 ['US', 'CA', 'Orange', 'CA']\n",
      "13117 ['US', 'CA', 'San Diego', 'CA']\n",
      "13181 ['US', 'CA', 'Los Angeles', 'California', 'San Francisco', 'California', 'San Jose', 'California', 'Manhattan', 'New York', 'Las Vegas', 'Nevada', 'Phoenix', 'Arizona', 'San Diego', 'California']\n",
      "13184 ['PH', '00', 'Northgate Cyberzone', 'Alabang']\n",
      "13353 ['NL', 'NH', 'Amsterdam', 'Rotterdam', 'The Hague', 'Utrecht']\n",
      "13401 ['GB', 'EDH', 'Edinburgh Central', 'South and South East']\n",
      "13729 ['US', 'IL', 'Chicago', 'IL 60606', 'US']\n",
      "13788 ['EG', 'C', 'Cairo', 'Nasr City']\n",
      "13835 ['DE', 'BY', 'Munich', 'partially in the UK']\n",
      "13953 ['GB', 'ValueWasntSpecified', 'Soho', 'London']\n",
      "14022 ['GR', 'I', 'Acharnai', 'Athens']\n",
      "14070 ['US', 'CO', 'Denver', 'Aurora', 'Littleton']\n",
      "14142 ['US', 'WA', 'Washington', 'DC']\n",
      "14206 ['GR', 'I', 'Acharnai', 'Athens']\n",
      "14253 ['US', 'CA', 'Bay Area', 'California']\n",
      "14300 ['EG', 'C', 'Cairo', 'Nasr City']\n",
      "14369 ['GR', 'I', 'Kifisia', 'Athens']\n",
      "14534 ['EG', 'C', 'Cairo', 'Nasr City']\n",
      "14561 ['GB', 'ValueWasntSpecified', 'Welwyn Garden City', 'Hertfordshire', 'UK']\n",
      "14619 ['NL', 'ZH', 'Rotterdam', 'The Hague', 'Utrecht', 'Amsterdam']\n",
      "14729 ['GB', 'LND', 'Camden', 'London']\n",
      "15019 ['US', 'LA', 'Lake Charles', 'ValueWasntSpecified']\n",
      "15169 ['US', 'DC', 'Washington', 'DC']\n",
      "15365 ['EG', 'C', 'Cairo', 'Nasr City']\n",
      "15381 ['GB', 'EDH', 'Edinburgh', 'East & Midlothian']\n",
      "15466 ['SA', '01', 'Riyadh', 'Olaya']\n",
      "15514 ['EG', 'C', 'Cairo', 'Nasr City']\n",
      "15576 ['GB', 'LND', 'Camden', 'London']\n",
      "15763 ['EG', 'C', 'Cairo', 'Nasr City']\n",
      "15827 ['US', 'CA', 'Fresno', 'CA']\n",
      "16255 ['EG', 'C', 'Cairo', 'Nasr City']\n",
      "16487 ['EG', 'C', 'Cairo', 'Nasr City']\n",
      "16643 ['US', 'CA', 'San Mateo', 'CA']\n",
      "16862 ['US', 'NC', 'Holly Springs', 'NC']\n",
      "17242 ['GB', 'LND', 'Camden', 'London']\n",
      "17433 ['EG', 'C', 'Cairo', 'Nasr City']\n",
      "17571 ['US', 'FL', 'Orlando,Lake City', 'Jacksonville,Atlanta,Ocala,Miami,Asbury Park NJ', 'Belmar NJ', 'Toms River NJ.']\n"
     ]
    }
   ],
   "source": [
    "for loc_ind, loc in enumerate(location_splitted):\n",
    "    if len(loc) > 3:\n",
    "        print(loc_ind, loc)"
   ]
  },
  {
   "cell_type": "code",
   "execution_count": 21,
   "metadata": {
    "scrolled": true
   },
   "outputs": [
    {
     "name": "stdout",
     "output_type": "stream",
     "text": [
      "42 ['US']\n",
      "173 ['US']\n",
      "230 ['US']\n",
      "368 ['US']\n",
      "392 ['US']\n",
      "502 ['US']\n",
      "540 ['US']\n",
      "866 ['AU']\n",
      "895 ['US']\n",
      "962 ['GR']\n",
      "994 ['US']\n",
      "1033 ['CA']\n",
      "1360 ['HK']\n",
      "1661 ['DE']\n",
      "1697 ['GB']\n",
      "1714 ['US']\n",
      "1784 ['US']\n",
      "1803 ['US']\n",
      "1981 ['IN']\n",
      "2180 ['US']\n",
      "2247 ['US']\n",
      "2269 ['US']\n",
      "2288 ['US']\n",
      "2330 ['US']\n",
      "2416 ['US']\n",
      "2562 ['US']\n",
      "2653 ['US']\n",
      "2760 ['US']\n",
      "2930 ['US']\n",
      "3179 ['GB']\n",
      "3510 ['US']\n",
      "3690 ['US']\n",
      "3784 ['US']\n",
      "3956 ['AU']\n",
      "4130 ['US']\n",
      "4146 ['US']\n",
      "4192 ['GR']\n",
      "4193 ['US']\n",
      "4211 ['GB']\n",
      "4399 ['GB']\n",
      "4569 ['US']\n",
      "4726 ['US']\n",
      "5276 ['US']\n",
      "5476 ['US']\n",
      "5813 ['BE']\n",
      "5948 ['CN']\n",
      "7159 ['TH']\n",
      "7411 ['US']\n",
      "7421 ['US']\n",
      "7450 ['QA']\n",
      "7462 ['US']\n",
      "7495 ['US']\n",
      "7518 ['US']\n",
      "7700 ['US']\n",
      "7838 ['US']\n",
      "7858 ['US']\n",
      "7911 ['US']\n",
      "7920 ['US']\n",
      "7996 ['GR']\n",
      "8056 ['NZ']\n",
      "8776 ['GB']\n",
      "8841 ['QA']\n",
      "9952 ['GB']\n",
      "10101 ['US']\n",
      "10407 ['GB']\n",
      "10452 ['US']\n",
      "10538 ['US']\n",
      "10550 ['US']\n",
      "10895 ['GB']\n",
      "11130 ['US']\n",
      "11643 ['US']\n",
      "11664 ['US']\n",
      "11935 ['AU']\n",
      "12042 ['IN']\n",
      "12069 ['IL']\n",
      "12116 ['US']\n",
      "13042 ['US']\n",
      "13206 ['DE']\n",
      "13259 ['US']\n",
      "13462 ['US']\n",
      "13780 ['GB']\n",
      "13994 ['US']\n",
      "14043 ['GB']\n",
      "14242 ['US']\n",
      "15864 ['US']\n",
      "16093 ['CA']\n",
      "16239 ['US']\n",
      "16628 ['US']\n",
      "16863 ['US']\n",
      "17450 ['US']\n",
      "17469 ['US']\n",
      "17538 ['US']\n",
      "17642 ['BH']\n",
      "17816 ['US']\n"
     ]
    }
   ],
   "source": [
    "for loc_ind, loc in enumerate(location_splitted):\n",
    "    if len(loc) < 3:\n",
    "        print(loc_ind, loc)"
   ]
  },
  {
   "cell_type": "markdown",
   "metadata": {},
   "source": [
    "To resolve these problems a strange move have to be undertaken due to this oddity:"
   ]
  },
  {
   "cell_type": "code",
   "execution_count": 22,
   "metadata": {},
   "outputs": [
    {
     "data": {
      "text/plain": [
       "False"
      ]
     },
     "execution_count": 22,
     "metadata": {},
     "output_type": "execute_result"
    }
   ],
   "source": [
    "location_splitted[0] is list"
   ]
  },
  {
   "cell_type": "code",
   "execution_count": 23,
   "metadata": {},
   "outputs": [
    {
     "data": {
      "text/plain": [
       "list"
      ]
     },
     "execution_count": 23,
     "metadata": {},
     "output_type": "execute_result"
    }
   ],
   "source": [
    "type(location_splitted[0])"
   ]
  },
  {
   "cell_type": "code",
   "execution_count": 24,
   "metadata": {},
   "outputs": [],
   "source": [
    "location_splitted = list(map(lambda loc: list(loc), location_splitted))"
   ]
  },
  {
   "cell_type": "markdown",
   "metadata": {},
   "source": [
    "Most of the problems arose due to the refinement of the position at the third element using a comma. Let's resolve it easily (and supplement values in which only the country is indicated):"
   ]
  },
  {
   "cell_type": "code",
   "execution_count": 25,
   "metadata": {},
   "outputs": [],
   "source": [
    "for loc_ind, loc in enumerate(location_splitted):\n",
    "    if len(loc) > 3:\n",
    "        location_splitted[loc_ind] = loc[:2] + [', '.join(loc[2:])]\n",
    "    if len(loc) < 3:\n",
    "        location_splitted[loc_ind] += ['ValueWasntSpecified'] * 2"
   ]
  },
  {
   "cell_type": "markdown",
   "metadata": {},
   "source": [
    "Alright:"
   ]
  },
  {
   "cell_type": "code",
   "execution_count": 26,
   "metadata": {},
   "outputs": [
    {
     "data": {
      "text/plain": [
       "(False, False)"
      ]
     },
     "execution_count": 26,
     "metadata": {},
     "output_type": "execute_result"
    }
   ],
   "source": [
    "any([len(loc) > 3 for loc in location_splitted]), any([len(loc) < 3 for loc in location_splitted])"
   ]
  },
  {
   "cell_type": "markdown",
   "metadata": {},
   "source": [
    "Now let's add new features to the dataset table and remove the old one from it:"
   ]
  },
  {
   "cell_type": "code",
   "execution_count": 27,
   "metadata": {},
   "outputs": [
    {
     "data": {
      "text/html": [
       "<div>\n",
       "<style scoped>\n",
       "    .dataframe tbody tr th:only-of-type {\n",
       "        vertical-align: middle;\n",
       "    }\n",
       "\n",
       "    .dataframe tbody tr th {\n",
       "        vertical-align: top;\n",
       "    }\n",
       "\n",
       "    .dataframe thead th {\n",
       "        text-align: right;\n",
       "    }\n",
       "</style>\n",
       "<table border=\"1\" class=\"dataframe\">\n",
       "  <thead>\n",
       "    <tr style=\"text-align: right;\">\n",
       "      <th></th>\n",
       "      <th>country</th>\n",
       "      <th>state</th>\n",
       "      <th>city</th>\n",
       "    </tr>\n",
       "  </thead>\n",
       "  <tbody>\n",
       "    <tr>\n",
       "      <th>0</th>\n",
       "      <td>US</td>\n",
       "      <td>NY</td>\n",
       "      <td>New York</td>\n",
       "    </tr>\n",
       "    <tr>\n",
       "      <th>1</th>\n",
       "      <td>NZ</td>\n",
       "      <td>ValueWasntSpecified</td>\n",
       "      <td>Auckland</td>\n",
       "    </tr>\n",
       "    <tr>\n",
       "      <th>2</th>\n",
       "      <td>US</td>\n",
       "      <td>IA</td>\n",
       "      <td>Wever</td>\n",
       "    </tr>\n",
       "    <tr>\n",
       "      <th>3</th>\n",
       "      <td>US</td>\n",
       "      <td>DC</td>\n",
       "      <td>Washington</td>\n",
       "    </tr>\n",
       "    <tr>\n",
       "      <th>4</th>\n",
       "      <td>US</td>\n",
       "      <td>FL</td>\n",
       "      <td>Fort Worth</td>\n",
       "    </tr>\n",
       "    <tr>\n",
       "      <th>5</th>\n",
       "      <td>US</td>\n",
       "      <td>MD</td>\n",
       "      <td>ValueWasntSpecified</td>\n",
       "    </tr>\n",
       "    <tr>\n",
       "      <th>6</th>\n",
       "      <td>DE</td>\n",
       "      <td>BE</td>\n",
       "      <td>Berlin</td>\n",
       "    </tr>\n",
       "    <tr>\n",
       "      <th>7</th>\n",
       "      <td>US</td>\n",
       "      <td>CA</td>\n",
       "      <td>San Francisco</td>\n",
       "    </tr>\n",
       "    <tr>\n",
       "      <th>8</th>\n",
       "      <td>US</td>\n",
       "      <td>FL</td>\n",
       "      <td>Pensacola</td>\n",
       "    </tr>\n",
       "    <tr>\n",
       "      <th>9</th>\n",
       "      <td>US</td>\n",
       "      <td>AZ</td>\n",
       "      <td>Phoenix</td>\n",
       "    </tr>\n",
       "    <tr>\n",
       "      <th>10</th>\n",
       "      <td>US</td>\n",
       "      <td>NJ</td>\n",
       "      <td>Jersey City</td>\n",
       "    </tr>\n",
       "    <tr>\n",
       "      <th>11</th>\n",
       "      <td>GB</td>\n",
       "      <td>LND</td>\n",
       "      <td>London</td>\n",
       "    </tr>\n",
       "    <tr>\n",
       "      <th>12</th>\n",
       "      <td>US</td>\n",
       "      <td>CT</td>\n",
       "      <td>Stamford</td>\n",
       "    </tr>\n",
       "    <tr>\n",
       "      <th>13</th>\n",
       "      <td>US</td>\n",
       "      <td>FL</td>\n",
       "      <td>Orlando</td>\n",
       "    </tr>\n",
       "    <tr>\n",
       "      <th>14</th>\n",
       "      <td>AU</td>\n",
       "      <td>NSW</td>\n",
       "      <td>Sydney</td>\n",
       "    </tr>\n",
       "  </tbody>\n",
       "</table>\n",
       "</div>"
      ],
      "text/plain": [
       "   country                state                 city\n",
       "0       US                   NY             New York\n",
       "1       NZ  ValueWasntSpecified             Auckland\n",
       "2       US                   IA                Wever\n",
       "3       US                   DC           Washington\n",
       "4       US                   FL           Fort Worth\n",
       "5       US                   MD  ValueWasntSpecified\n",
       "6       DE                   BE               Berlin\n",
       "7       US                   CA        San Francisco\n",
       "8       US                   FL            Pensacola\n",
       "9       US                   AZ              Phoenix\n",
       "10      US                   NJ          Jersey City\n",
       "11      GB                  LND               London\n",
       "12      US                   CT             Stamford\n",
       "13      US                   FL              Orlando\n",
       "14      AU                  NSW               Sydney"
      ]
     },
     "execution_count": 27,
     "metadata": {},
     "output_type": "execute_result"
    }
   ],
   "source": [
    "data_location = pd.DataFrame(location_splitted, columns=['country', 'state', 'city'])\n",
    "data_location.head(15)"
   ]
  },
  {
   "cell_type": "code",
   "execution_count": 28,
   "metadata": {},
   "outputs": [
    {
     "data": {
      "text/html": [
       "<div>\n",
       "<style scoped>\n",
       "    .dataframe tbody tr th:only-of-type {\n",
       "        vertical-align: middle;\n",
       "    }\n",
       "\n",
       "    .dataframe tbody tr th {\n",
       "        vertical-align: top;\n",
       "    }\n",
       "\n",
       "    .dataframe thead th {\n",
       "        text-align: right;\n",
       "    }\n",
       "</style>\n",
       "<table border=\"1\" class=\"dataframe\">\n",
       "  <thead>\n",
       "    <tr style=\"text-align: right;\">\n",
       "      <th></th>\n",
       "      <th>title</th>\n",
       "      <th>location</th>\n",
       "      <th>department</th>\n",
       "      <th>salary_range</th>\n",
       "      <th>company_profile</th>\n",
       "      <th>description</th>\n",
       "      <th>requirements</th>\n",
       "      <th>benefits</th>\n",
       "      <th>telecommuting</th>\n",
       "      <th>has_company_logo</th>\n",
       "      <th>has_questions</th>\n",
       "      <th>employment_type</th>\n",
       "      <th>required_experience</th>\n",
       "      <th>required_education</th>\n",
       "      <th>industry</th>\n",
       "      <th>function</th>\n",
       "      <th>fraudulent</th>\n",
       "      <th>country</th>\n",
       "      <th>state</th>\n",
       "      <th>city</th>\n",
       "    </tr>\n",
       "  </thead>\n",
       "  <tbody>\n",
       "    <tr>\n",
       "      <th>0</th>\n",
       "      <td>market intern</td>\n",
       "      <td>US, NY, New York</td>\n",
       "      <td>Marketing</td>\n",
       "      <td>NaN</td>\n",
       "      <td>food weve creat groundbreak awardwin cook site...</td>\n",
       "      <td>food fastgrow jame beard awardwin onlin food c...</td>\n",
       "      <td>experi content manag system major plu blog cou...</td>\n",
       "      <td>valuewasntspecifi</td>\n",
       "      <td>0</td>\n",
       "      <td>1</td>\n",
       "      <td>0</td>\n",
       "      <td>Other</td>\n",
       "      <td>Internship</td>\n",
       "      <td>NaN</td>\n",
       "      <td>NaN</td>\n",
       "      <td>Marketing</td>\n",
       "      <td>0</td>\n",
       "      <td>US</td>\n",
       "      <td>NY</td>\n",
       "      <td>New York</td>\n",
       "    </tr>\n",
       "    <tr>\n",
       "      <th>1</th>\n",
       "      <td>custom servic cloud video product</td>\n",
       "      <td>NZ, , Auckland</td>\n",
       "      <td>Success</td>\n",
       "      <td>NaN</td>\n",
       "      <td>second world cloud video product servic second...</td>\n",
       "      <td>organis focus vibrant awesomedo passion custom...</td>\n",
       "      <td>expect youyour key respons commun client secon...</td>\n",
       "      <td>get usthrough part second team gainexperi work...</td>\n",
       "      <td>0</td>\n",
       "      <td>1</td>\n",
       "      <td>0</td>\n",
       "      <td>Full-time</td>\n",
       "      <td>Not Applicable</td>\n",
       "      <td>NaN</td>\n",
       "      <td>Marketing and Advertising</td>\n",
       "      <td>Customer Service</td>\n",
       "      <td>0</td>\n",
       "      <td>NZ</td>\n",
       "      <td>ValueWasntSpecified</td>\n",
       "      <td>Auckland</td>\n",
       "    </tr>\n",
       "    <tr>\n",
       "      <th>2</th>\n",
       "      <td>commiss machineri assist cma</td>\n",
       "      <td>US, IA, Wever</td>\n",
       "      <td>NaN</td>\n",
       "      <td>NaN</td>\n",
       "      <td>valor servic provid workforc solut meet need c...</td>\n",
       "      <td>client locat houston activ seek experienc comm...</td>\n",
       "      <td>implement precommiss commiss procedur rotari e...</td>\n",
       "      <td>valuewasntspecifi</td>\n",
       "      <td>0</td>\n",
       "      <td>1</td>\n",
       "      <td>0</td>\n",
       "      <td>NaN</td>\n",
       "      <td>NaN</td>\n",
       "      <td>NaN</td>\n",
       "      <td>NaN</td>\n",
       "      <td>NaN</td>\n",
       "      <td>0</td>\n",
       "      <td>US</td>\n",
       "      <td>IA</td>\n",
       "      <td>Wever</td>\n",
       "    </tr>\n",
       "    <tr>\n",
       "      <th>3</th>\n",
       "      <td>account execut washington dc</td>\n",
       "      <td>US, DC, Washington</td>\n",
       "      <td>Sales</td>\n",
       "      <td>NaN</td>\n",
       "      <td>passion improv qualiti life geographi heart ev...</td>\n",
       "      <td>compani esri environment system research insti...</td>\n",
       "      <td>educationbachelor master gi busi administr rel...</td>\n",
       "      <td>cultur anyth corporatew collabor creativ envir...</td>\n",
       "      <td>0</td>\n",
       "      <td>1</td>\n",
       "      <td>0</td>\n",
       "      <td>Full-time</td>\n",
       "      <td>Mid-Senior level</td>\n",
       "      <td>Bachelor's Degree</td>\n",
       "      <td>Computer Software</td>\n",
       "      <td>Sales</td>\n",
       "      <td>0</td>\n",
       "      <td>US</td>\n",
       "      <td>DC</td>\n",
       "      <td>Washington</td>\n",
       "    </tr>\n",
       "    <tr>\n",
       "      <th>4</th>\n",
       "      <td>bill review manag</td>\n",
       "      <td>US, FL, Fort Worth</td>\n",
       "      <td>NaN</td>\n",
       "      <td>NaN</td>\n",
       "      <td>spotsourc solut llc global human capit manag c...</td>\n",
       "      <td>job titl item review managerloc fort worth tx ...</td>\n",
       "      <td>qualificationsrn licens state texasdiploma bac...</td>\n",
       "      <td>full benefit offer</td>\n",
       "      <td>0</td>\n",
       "      <td>1</td>\n",
       "      <td>1</td>\n",
       "      <td>Full-time</td>\n",
       "      <td>Mid-Senior level</td>\n",
       "      <td>Bachelor's Degree</td>\n",
       "      <td>Hospital &amp; Health Care</td>\n",
       "      <td>Health Care Provider</td>\n",
       "      <td>0</td>\n",
       "      <td>US</td>\n",
       "      <td>FL</td>\n",
       "      <td>Fort Worth</td>\n",
       "    </tr>\n",
       "  </tbody>\n",
       "</table>\n",
       "</div>"
      ],
      "text/plain": [
       "                               title            location department  \\\n",
       "0                      market intern    US, NY, New York  Marketing   \n",
       "1  custom servic cloud video product      NZ, , Auckland    Success   \n",
       "2       commiss machineri assist cma       US, IA, Wever        NaN   \n",
       "3       account execut washington dc  US, DC, Washington      Sales   \n",
       "4                  bill review manag  US, FL, Fort Worth        NaN   \n",
       "\n",
       "  salary_range                                    company_profile  \\\n",
       "0          NaN  food weve creat groundbreak awardwin cook site...   \n",
       "1          NaN  second world cloud video product servic second...   \n",
       "2          NaN  valor servic provid workforc solut meet need c...   \n",
       "3          NaN  passion improv qualiti life geographi heart ev...   \n",
       "4          NaN  spotsourc solut llc global human capit manag c...   \n",
       "\n",
       "                                         description  \\\n",
       "0  food fastgrow jame beard awardwin onlin food c...   \n",
       "1  organis focus vibrant awesomedo passion custom...   \n",
       "2  client locat houston activ seek experienc comm...   \n",
       "3  compani esri environment system research insti...   \n",
       "4  job titl item review managerloc fort worth tx ...   \n",
       "\n",
       "                                        requirements  \\\n",
       "0  experi content manag system major plu blog cou...   \n",
       "1  expect youyour key respons commun client secon...   \n",
       "2  implement precommiss commiss procedur rotari e...   \n",
       "3  educationbachelor master gi busi administr rel...   \n",
       "4  qualificationsrn licens state texasdiploma bac...   \n",
       "\n",
       "                                            benefits  telecommuting  \\\n",
       "0                                  valuewasntspecifi              0   \n",
       "1  get usthrough part second team gainexperi work...              0   \n",
       "2                                  valuewasntspecifi              0   \n",
       "3  cultur anyth corporatew collabor creativ envir...              0   \n",
       "4                                 full benefit offer              0   \n",
       "\n",
       "   has_company_logo  has_questions employment_type required_experience  \\\n",
       "0                 1              0           Other          Internship   \n",
       "1                 1              0       Full-time      Not Applicable   \n",
       "2                 1              0             NaN                 NaN   \n",
       "3                 1              0       Full-time    Mid-Senior level   \n",
       "4                 1              1       Full-time    Mid-Senior level   \n",
       "\n",
       "  required_education                   industry              function  \\\n",
       "0                NaN                        NaN             Marketing   \n",
       "1                NaN  Marketing and Advertising      Customer Service   \n",
       "2                NaN                        NaN                   NaN   \n",
       "3  Bachelor's Degree          Computer Software                 Sales   \n",
       "4  Bachelor's Degree     Hospital & Health Care  Health Care Provider   \n",
       "\n",
       "   fraudulent country                state        city  \n",
       "0           0      US                   NY    New York  \n",
       "1           0      NZ  ValueWasntSpecified    Auckland  \n",
       "2           0      US                   IA       Wever  \n",
       "3           0      US                   DC  Washington  \n",
       "4           0      US                   FL  Fort Worth  "
      ]
     },
     "execution_count": 28,
     "metadata": {},
     "output_type": "execute_result"
    }
   ],
   "source": [
    "data = pd.concat([data, data_location], axis=1)\n",
    "data.head()"
   ]
  },
  {
   "cell_type": "code",
   "execution_count": 29,
   "metadata": {},
   "outputs": [],
   "source": [
    "data.drop('location', axis=1, inplace=True)"
   ]
  },
  {
   "cell_type": "markdown",
   "metadata": {},
   "source": [
    "#### `salary_range`\n",
    "\n",
    "Now we need to do something with the `salary_range` column because we can't work with it as with a categorical feature:"
   ]
  },
  {
   "cell_type": "code",
   "execution_count": 30,
   "metadata": {},
   "outputs": [
    {
     "data": {
      "text/plain": [
       "0               NaN\n",
       "1               NaN\n",
       "2               NaN\n",
       "3               NaN\n",
       "4               NaN\n",
       "5               NaN\n",
       "6       20000-28000\n",
       "7               NaN\n",
       "8               NaN\n",
       "9               NaN\n",
       "10    100000-120000\n",
       "11              NaN\n",
       "12              NaN\n",
       "13              NaN\n",
       "14              NaN\n",
       "Name: salary_range, dtype: object"
      ]
     },
     "execution_count": 30,
     "metadata": {},
     "output_type": "execute_result"
    }
   ],
   "source": [
    "salary_range = data.salary_range.copy()\n",
    "salary_range.head(15)"
   ]
  },
  {
   "cell_type": "markdown",
   "metadata": {},
   "source": [
    "Filling in the missing values with a `0-0` value (in the future we will create an indicator for the unspecified data):"
   ]
  },
  {
   "cell_type": "code",
   "execution_count": 31,
   "metadata": {},
   "outputs": [],
   "source": [
    "salary_range.fillna('0-0', inplace=True)"
   ]
  },
  {
   "cell_type": "code",
   "execution_count": 32,
   "metadata": {},
   "outputs": [
    {
     "data": {
      "text/plain": [
       "[['0', '0'], ['0', '0'], ['0', '0'], ['0', '0'], ['0', '0']]"
      ]
     },
     "execution_count": 32,
     "metadata": {},
     "output_type": "execute_result"
    }
   ],
   "source": [
    "salary_range_sep = list(salary_range.str.split('-').values)\n",
    "salary_range_sep[:5]"
   ]
  },
  {
   "cell_type": "markdown",
   "metadata": {},
   "source": [
    "Checking for unusual values:"
   ]
  },
  {
   "cell_type": "code",
   "execution_count": 33,
   "metadata": {},
   "outputs": [
    {
     "name": "stdout",
     "output_type": "stream",
     "text": [
      "5538 ['40000']\n"
     ]
    }
   ],
   "source": [
    "for range_ind, s_range in enumerate(salary_range_sep):\n",
    "    if len(s_range) < 2 or len(s_range) > 2:\n",
    "        print(range_ind, s_range)"
   ]
  },
  {
   "cell_type": "markdown",
   "metadata": {},
   "source": [
    "And fixing it:"
   ]
  },
  {
   "cell_type": "code",
   "execution_count": 34,
   "metadata": {},
   "outputs": [],
   "source": [
    "salary_range_sep[5538] = ['40000', '40000']"
   ]
  },
  {
   "cell_type": "markdown",
   "metadata": {},
   "source": [
    "Not all gained values are numerical:"
   ]
  },
  {
   "cell_type": "code",
   "execution_count": 35,
   "metadata": {},
   "outputs": [
    {
     "name": "stdout",
     "output_type": "stream",
     "text": [
      "159 ('9', 'Dec')\n",
      "1884 ('3', 'Apr')\n",
      "1981 ('4', 'Apr')\n",
      "2313 ('Oct', '15')\n",
      "4299 ('8', 'Sep')\n",
      "9124 ('4', 'Jun')\n",
      "9902 ('10', 'Oct')\n",
      "9911 ('Oct', '20')\n",
      "10316 ('Jun', '18')\n",
      "10785 ('10', 'Oct')\n",
      "10788 ('11', 'Nov')\n",
      "10860 ('10', 'Nov')\n",
      "10883 ('10', 'Oct')\n",
      "10889 ('10', 'Nov')\n",
      "10896 ('10', 'Oct')\n",
      "10905 ('10', 'Nov')\n",
      "11361 ('11', 'Dec')\n",
      "11495 ('2', 'Apr')\n",
      "11606 ('10', 'Nov')\n",
      "12421 ('10', 'Oct')\n",
      "13449 ('11', 'Nov')\n",
      "13482 ('2', 'Jun')\n",
      "14196 ('Oct', '20')\n",
      "15483 ('10', 'Oct')\n",
      "17233 ('10', 'Nov')\n",
      "17656 ('Dec', '25')\n"
     ]
    }
   ],
   "source": [
    "error_range_inds = []\n",
    "for range_ind, s_range in enumerate(salary_range_sep):\n",
    "    min_value, max_value = s_range\n",
    "    if not min_value.isdigit() or not max_value.isdigit():\n",
    "        print(range_ind, (min_value, max_value))\n",
    "        error_range_inds += [range_ind]"
   ]
  },
  {
   "cell_type": "markdown",
   "metadata": {},
   "source": [
    "Somebody specified some kind of dates instead of salary range, let's replace these values with NA-replacer-value:"
   ]
  },
  {
   "cell_type": "code",
   "execution_count": 36,
   "metadata": {},
   "outputs": [],
   "source": [
    "for range_ind in error_range_inds:\n",
    "    salary_range_sep[range_ind] = ['0', '0']"
   ]
  },
  {
   "cell_type": "markdown",
   "metadata": {},
   "source": [
    "Saving results into the `pandas.DataFrame` object:"
   ]
  },
  {
   "cell_type": "code",
   "execution_count": 37,
   "metadata": {},
   "outputs": [
    {
     "data": {
      "text/html": [
       "<div>\n",
       "<style scoped>\n",
       "    .dataframe tbody tr th:only-of-type {\n",
       "        vertical-align: middle;\n",
       "    }\n",
       "\n",
       "    .dataframe tbody tr th {\n",
       "        vertical-align: top;\n",
       "    }\n",
       "\n",
       "    .dataframe thead th {\n",
       "        text-align: right;\n",
       "    }\n",
       "</style>\n",
       "<table border=\"1\" class=\"dataframe\">\n",
       "  <thead>\n",
       "    <tr style=\"text-align: right;\">\n",
       "      <th></th>\n",
       "      <th>min_salary</th>\n",
       "      <th>max_salary</th>\n",
       "    </tr>\n",
       "  </thead>\n",
       "  <tbody>\n",
       "    <tr>\n",
       "      <th>0</th>\n",
       "      <td>0</td>\n",
       "      <td>0</td>\n",
       "    </tr>\n",
       "    <tr>\n",
       "      <th>1</th>\n",
       "      <td>0</td>\n",
       "      <td>0</td>\n",
       "    </tr>\n",
       "    <tr>\n",
       "      <th>2</th>\n",
       "      <td>0</td>\n",
       "      <td>0</td>\n",
       "    </tr>\n",
       "    <tr>\n",
       "      <th>3</th>\n",
       "      <td>0</td>\n",
       "      <td>0</td>\n",
       "    </tr>\n",
       "    <tr>\n",
       "      <th>4</th>\n",
       "      <td>0</td>\n",
       "      <td>0</td>\n",
       "    </tr>\n",
       "    <tr>\n",
       "      <th>5</th>\n",
       "      <td>0</td>\n",
       "      <td>0</td>\n",
       "    </tr>\n",
       "    <tr>\n",
       "      <th>6</th>\n",
       "      <td>20000</td>\n",
       "      <td>28000</td>\n",
       "    </tr>\n",
       "    <tr>\n",
       "      <th>7</th>\n",
       "      <td>0</td>\n",
       "      <td>0</td>\n",
       "    </tr>\n",
       "    <tr>\n",
       "      <th>8</th>\n",
       "      <td>0</td>\n",
       "      <td>0</td>\n",
       "    </tr>\n",
       "    <tr>\n",
       "      <th>9</th>\n",
       "      <td>0</td>\n",
       "      <td>0</td>\n",
       "    </tr>\n",
       "    <tr>\n",
       "      <th>10</th>\n",
       "      <td>100000</td>\n",
       "      <td>120000</td>\n",
       "    </tr>\n",
       "    <tr>\n",
       "      <th>11</th>\n",
       "      <td>0</td>\n",
       "      <td>0</td>\n",
       "    </tr>\n",
       "    <tr>\n",
       "      <th>12</th>\n",
       "      <td>0</td>\n",
       "      <td>0</td>\n",
       "    </tr>\n",
       "    <tr>\n",
       "      <th>13</th>\n",
       "      <td>0</td>\n",
       "      <td>0</td>\n",
       "    </tr>\n",
       "    <tr>\n",
       "      <th>14</th>\n",
       "      <td>0</td>\n",
       "      <td>0</td>\n",
       "    </tr>\n",
       "  </tbody>\n",
       "</table>\n",
       "</div>"
      ],
      "text/plain": [
       "    min_salary  max_salary\n",
       "0            0           0\n",
       "1            0           0\n",
       "2            0           0\n",
       "3            0           0\n",
       "4            0           0\n",
       "5            0           0\n",
       "6        20000       28000\n",
       "7            0           0\n",
       "8            0           0\n",
       "9            0           0\n",
       "10      100000      120000\n",
       "11           0           0\n",
       "12           0           0\n",
       "13           0           0\n",
       "14           0           0"
      ]
     },
     "execution_count": 37,
     "metadata": {},
     "output_type": "execute_result"
    }
   ],
   "source": [
    "data_salary_range = pd.DataFrame(np.array(salary_range_sep, dtype='int64'), \n",
    "                                 columns=['min_salary', 'max_salary'])\n",
    "data_salary_range.head(15)"
   ]
  },
  {
   "cell_type": "markdown",
   "metadata": {},
   "source": [
    "Adding the column for marking the unspecified salary ranges:"
   ]
  },
  {
   "cell_type": "code",
   "execution_count": 38,
   "metadata": {},
   "outputs": [
    {
     "data": {
      "text/html": [
       "<div>\n",
       "<style scoped>\n",
       "    .dataframe tbody tr th:only-of-type {\n",
       "        vertical-align: middle;\n",
       "    }\n",
       "\n",
       "    .dataframe tbody tr th {\n",
       "        vertical-align: top;\n",
       "    }\n",
       "\n",
       "    .dataframe thead th {\n",
       "        text-align: right;\n",
       "    }\n",
       "</style>\n",
       "<table border=\"1\" class=\"dataframe\">\n",
       "  <thead>\n",
       "    <tr style=\"text-align: right;\">\n",
       "      <th></th>\n",
       "      <th>min_salary</th>\n",
       "      <th>max_salary</th>\n",
       "      <th>salary_unspecified</th>\n",
       "    </tr>\n",
       "  </thead>\n",
       "  <tbody>\n",
       "    <tr>\n",
       "      <th>0</th>\n",
       "      <td>0</td>\n",
       "      <td>0</td>\n",
       "      <td>1</td>\n",
       "    </tr>\n",
       "    <tr>\n",
       "      <th>1</th>\n",
       "      <td>0</td>\n",
       "      <td>0</td>\n",
       "      <td>1</td>\n",
       "    </tr>\n",
       "    <tr>\n",
       "      <th>2</th>\n",
       "      <td>0</td>\n",
       "      <td>0</td>\n",
       "      <td>1</td>\n",
       "    </tr>\n",
       "    <tr>\n",
       "      <th>3</th>\n",
       "      <td>0</td>\n",
       "      <td>0</td>\n",
       "      <td>1</td>\n",
       "    </tr>\n",
       "    <tr>\n",
       "      <th>4</th>\n",
       "      <td>0</td>\n",
       "      <td>0</td>\n",
       "      <td>1</td>\n",
       "    </tr>\n",
       "    <tr>\n",
       "      <th>5</th>\n",
       "      <td>0</td>\n",
       "      <td>0</td>\n",
       "      <td>1</td>\n",
       "    </tr>\n",
       "    <tr>\n",
       "      <th>6</th>\n",
       "      <td>20000</td>\n",
       "      <td>28000</td>\n",
       "      <td>0</td>\n",
       "    </tr>\n",
       "    <tr>\n",
       "      <th>7</th>\n",
       "      <td>0</td>\n",
       "      <td>0</td>\n",
       "      <td>1</td>\n",
       "    </tr>\n",
       "    <tr>\n",
       "      <th>8</th>\n",
       "      <td>0</td>\n",
       "      <td>0</td>\n",
       "      <td>1</td>\n",
       "    </tr>\n",
       "    <tr>\n",
       "      <th>9</th>\n",
       "      <td>0</td>\n",
       "      <td>0</td>\n",
       "      <td>1</td>\n",
       "    </tr>\n",
       "    <tr>\n",
       "      <th>10</th>\n",
       "      <td>100000</td>\n",
       "      <td>120000</td>\n",
       "      <td>0</td>\n",
       "    </tr>\n",
       "    <tr>\n",
       "      <th>11</th>\n",
       "      <td>0</td>\n",
       "      <td>0</td>\n",
       "      <td>1</td>\n",
       "    </tr>\n",
       "    <tr>\n",
       "      <th>12</th>\n",
       "      <td>0</td>\n",
       "      <td>0</td>\n",
       "      <td>1</td>\n",
       "    </tr>\n",
       "    <tr>\n",
       "      <th>13</th>\n",
       "      <td>0</td>\n",
       "      <td>0</td>\n",
       "      <td>1</td>\n",
       "    </tr>\n",
       "    <tr>\n",
       "      <th>14</th>\n",
       "      <td>0</td>\n",
       "      <td>0</td>\n",
       "      <td>1</td>\n",
       "    </tr>\n",
       "  </tbody>\n",
       "</table>\n",
       "</div>"
      ],
      "text/plain": [
       "    min_salary  max_salary  salary_unspecified\n",
       "0            0           0                   1\n",
       "1            0           0                   1\n",
       "2            0           0                   1\n",
       "3            0           0                   1\n",
       "4            0           0                   1\n",
       "5            0           0                   1\n",
       "6        20000       28000                   0\n",
       "7            0           0                   1\n",
       "8            0           0                   1\n",
       "9            0           0                   1\n",
       "10      100000      120000                   0\n",
       "11           0           0                   1\n",
       "12           0           0                   1\n",
       "13           0           0                   1\n",
       "14           0           0                   1"
      ]
     },
     "execution_count": 38,
     "metadata": {},
     "output_type": "execute_result"
    }
   ],
   "source": [
    "data_salary_range['salary_unspecified'] = (data_salary_range.max_salary == 0).astype('int64')\n",
    "data_salary_range.head(15)"
   ]
  },
  {
   "cell_type": "markdown",
   "metadata": {},
   "source": [
    "And saving results into the original table:"
   ]
  },
  {
   "cell_type": "code",
   "execution_count": 39,
   "metadata": {},
   "outputs": [
    {
     "data": {
      "text/html": [
       "<div>\n",
       "<style scoped>\n",
       "    .dataframe tbody tr th:only-of-type {\n",
       "        vertical-align: middle;\n",
       "    }\n",
       "\n",
       "    .dataframe tbody tr th {\n",
       "        vertical-align: top;\n",
       "    }\n",
       "\n",
       "    .dataframe thead th {\n",
       "        text-align: right;\n",
       "    }\n",
       "</style>\n",
       "<table border=\"1\" class=\"dataframe\">\n",
       "  <thead>\n",
       "    <tr style=\"text-align: right;\">\n",
       "      <th></th>\n",
       "      <th>title</th>\n",
       "      <th>department</th>\n",
       "      <th>salary_range</th>\n",
       "      <th>company_profile</th>\n",
       "      <th>description</th>\n",
       "      <th>requirements</th>\n",
       "      <th>benefits</th>\n",
       "      <th>telecommuting</th>\n",
       "      <th>has_company_logo</th>\n",
       "      <th>has_questions</th>\n",
       "      <th>...</th>\n",
       "      <th>required_education</th>\n",
       "      <th>industry</th>\n",
       "      <th>function</th>\n",
       "      <th>fraudulent</th>\n",
       "      <th>country</th>\n",
       "      <th>state</th>\n",
       "      <th>city</th>\n",
       "      <th>min_salary</th>\n",
       "      <th>max_salary</th>\n",
       "      <th>salary_unspecified</th>\n",
       "    </tr>\n",
       "  </thead>\n",
       "  <tbody>\n",
       "    <tr>\n",
       "      <th>0</th>\n",
       "      <td>market intern</td>\n",
       "      <td>Marketing</td>\n",
       "      <td>NaN</td>\n",
       "      <td>food weve creat groundbreak awardwin cook site...</td>\n",
       "      <td>food fastgrow jame beard awardwin onlin food c...</td>\n",
       "      <td>experi content manag system major plu blog cou...</td>\n",
       "      <td>valuewasntspecifi</td>\n",
       "      <td>0</td>\n",
       "      <td>1</td>\n",
       "      <td>0</td>\n",
       "      <td>...</td>\n",
       "      <td>NaN</td>\n",
       "      <td>NaN</td>\n",
       "      <td>Marketing</td>\n",
       "      <td>0</td>\n",
       "      <td>US</td>\n",
       "      <td>NY</td>\n",
       "      <td>New York</td>\n",
       "      <td>0</td>\n",
       "      <td>0</td>\n",
       "      <td>1</td>\n",
       "    </tr>\n",
       "    <tr>\n",
       "      <th>1</th>\n",
       "      <td>custom servic cloud video product</td>\n",
       "      <td>Success</td>\n",
       "      <td>NaN</td>\n",
       "      <td>second world cloud video product servic second...</td>\n",
       "      <td>organis focus vibrant awesomedo passion custom...</td>\n",
       "      <td>expect youyour key respons commun client secon...</td>\n",
       "      <td>get usthrough part second team gainexperi work...</td>\n",
       "      <td>0</td>\n",
       "      <td>1</td>\n",
       "      <td>0</td>\n",
       "      <td>...</td>\n",
       "      <td>NaN</td>\n",
       "      <td>Marketing and Advertising</td>\n",
       "      <td>Customer Service</td>\n",
       "      <td>0</td>\n",
       "      <td>NZ</td>\n",
       "      <td>ValueWasntSpecified</td>\n",
       "      <td>Auckland</td>\n",
       "      <td>0</td>\n",
       "      <td>0</td>\n",
       "      <td>1</td>\n",
       "    </tr>\n",
       "    <tr>\n",
       "      <th>2</th>\n",
       "      <td>commiss machineri assist cma</td>\n",
       "      <td>NaN</td>\n",
       "      <td>NaN</td>\n",
       "      <td>valor servic provid workforc solut meet need c...</td>\n",
       "      <td>client locat houston activ seek experienc comm...</td>\n",
       "      <td>implement precommiss commiss procedur rotari e...</td>\n",
       "      <td>valuewasntspecifi</td>\n",
       "      <td>0</td>\n",
       "      <td>1</td>\n",
       "      <td>0</td>\n",
       "      <td>...</td>\n",
       "      <td>NaN</td>\n",
       "      <td>NaN</td>\n",
       "      <td>NaN</td>\n",
       "      <td>0</td>\n",
       "      <td>US</td>\n",
       "      <td>IA</td>\n",
       "      <td>Wever</td>\n",
       "      <td>0</td>\n",
       "      <td>0</td>\n",
       "      <td>1</td>\n",
       "    </tr>\n",
       "    <tr>\n",
       "      <th>3</th>\n",
       "      <td>account execut washington dc</td>\n",
       "      <td>Sales</td>\n",
       "      <td>NaN</td>\n",
       "      <td>passion improv qualiti life geographi heart ev...</td>\n",
       "      <td>compani esri environment system research insti...</td>\n",
       "      <td>educationbachelor master gi busi administr rel...</td>\n",
       "      <td>cultur anyth corporatew collabor creativ envir...</td>\n",
       "      <td>0</td>\n",
       "      <td>1</td>\n",
       "      <td>0</td>\n",
       "      <td>...</td>\n",
       "      <td>Bachelor's Degree</td>\n",
       "      <td>Computer Software</td>\n",
       "      <td>Sales</td>\n",
       "      <td>0</td>\n",
       "      <td>US</td>\n",
       "      <td>DC</td>\n",
       "      <td>Washington</td>\n",
       "      <td>0</td>\n",
       "      <td>0</td>\n",
       "      <td>1</td>\n",
       "    </tr>\n",
       "    <tr>\n",
       "      <th>4</th>\n",
       "      <td>bill review manag</td>\n",
       "      <td>NaN</td>\n",
       "      <td>NaN</td>\n",
       "      <td>spotsourc solut llc global human capit manag c...</td>\n",
       "      <td>job titl item review managerloc fort worth tx ...</td>\n",
       "      <td>qualificationsrn licens state texasdiploma bac...</td>\n",
       "      <td>full benefit offer</td>\n",
       "      <td>0</td>\n",
       "      <td>1</td>\n",
       "      <td>1</td>\n",
       "      <td>...</td>\n",
       "      <td>Bachelor's Degree</td>\n",
       "      <td>Hospital &amp; Health Care</td>\n",
       "      <td>Health Care Provider</td>\n",
       "      <td>0</td>\n",
       "      <td>US</td>\n",
       "      <td>FL</td>\n",
       "      <td>Fort Worth</td>\n",
       "      <td>0</td>\n",
       "      <td>0</td>\n",
       "      <td>1</td>\n",
       "    </tr>\n",
       "  </tbody>\n",
       "</table>\n",
       "<p>5 rows × 22 columns</p>\n",
       "</div>"
      ],
      "text/plain": [
       "                               title department salary_range  \\\n",
       "0                      market intern  Marketing          NaN   \n",
       "1  custom servic cloud video product    Success          NaN   \n",
       "2       commiss machineri assist cma        NaN          NaN   \n",
       "3       account execut washington dc      Sales          NaN   \n",
       "4                  bill review manag        NaN          NaN   \n",
       "\n",
       "                                     company_profile  \\\n",
       "0  food weve creat groundbreak awardwin cook site...   \n",
       "1  second world cloud video product servic second...   \n",
       "2  valor servic provid workforc solut meet need c...   \n",
       "3  passion improv qualiti life geographi heart ev...   \n",
       "4  spotsourc solut llc global human capit manag c...   \n",
       "\n",
       "                                         description  \\\n",
       "0  food fastgrow jame beard awardwin onlin food c...   \n",
       "1  organis focus vibrant awesomedo passion custom...   \n",
       "2  client locat houston activ seek experienc comm...   \n",
       "3  compani esri environment system research insti...   \n",
       "4  job titl item review managerloc fort worth tx ...   \n",
       "\n",
       "                                        requirements  \\\n",
       "0  experi content manag system major plu blog cou...   \n",
       "1  expect youyour key respons commun client secon...   \n",
       "2  implement precommiss commiss procedur rotari e...   \n",
       "3  educationbachelor master gi busi administr rel...   \n",
       "4  qualificationsrn licens state texasdiploma bac...   \n",
       "\n",
       "                                            benefits  telecommuting  \\\n",
       "0                                  valuewasntspecifi              0   \n",
       "1  get usthrough part second team gainexperi work...              0   \n",
       "2                                  valuewasntspecifi              0   \n",
       "3  cultur anyth corporatew collabor creativ envir...              0   \n",
       "4                                 full benefit offer              0   \n",
       "\n",
       "   has_company_logo  has_questions  ... required_education  \\\n",
       "0                 1              0  ...                NaN   \n",
       "1                 1              0  ...                NaN   \n",
       "2                 1              0  ...                NaN   \n",
       "3                 1              0  ...  Bachelor's Degree   \n",
       "4                 1              1  ...  Bachelor's Degree   \n",
       "\n",
       "                    industry              function fraudulent country  \\\n",
       "0                        NaN             Marketing          0      US   \n",
       "1  Marketing and Advertising      Customer Service          0      NZ   \n",
       "2                        NaN                   NaN          0      US   \n",
       "3          Computer Software                 Sales          0      US   \n",
       "4     Hospital & Health Care  Health Care Provider          0      US   \n",
       "\n",
       "                 state        city min_salary max_salary  salary_unspecified  \n",
       "0                   NY    New York          0          0                   1  \n",
       "1  ValueWasntSpecified    Auckland          0          0                   1  \n",
       "2                   IA       Wever          0          0                   1  \n",
       "3                   DC  Washington          0          0                   1  \n",
       "4                   FL  Fort Worth          0          0                   1  \n",
       "\n",
       "[5 rows x 22 columns]"
      ]
     },
     "execution_count": 39,
     "metadata": {},
     "output_type": "execute_result"
    }
   ],
   "source": [
    "data = pd.concat([data, data_salary_range], axis=1)\n",
    "data.head()"
   ]
  },
  {
   "cell_type": "code",
   "execution_count": 40,
   "metadata": {},
   "outputs": [],
   "source": [
    "data.drop('salary_range', axis=1, inplace=True)"
   ]
  },
  {
   "cell_type": "markdown",
   "metadata": {},
   "source": [
    "### Other features\n",
    "\n",
    "We still have NA-values in other columns:"
   ]
  },
  {
   "cell_type": "code",
   "execution_count": 41,
   "metadata": {},
   "outputs": [
    {
     "name": "stdout",
     "output_type": "stream",
     "text": [
      "<class 'pandas.core.frame.DataFrame'>\n",
      "RangeIndex: 17880 entries, 0 to 17879\n",
      "Data columns (total 21 columns):\n",
      " #   Column               Non-Null Count  Dtype \n",
      "---  ------               --------------  ----- \n",
      " 0   title                17880 non-null  object\n",
      " 1   department           6333 non-null   object\n",
      " 2   company_profile      17880 non-null  object\n",
      " 3   description          17880 non-null  object\n",
      " 4   requirements         17880 non-null  object\n",
      " 5   benefits             17880 non-null  object\n",
      " 6   telecommuting        17880 non-null  int64 \n",
      " 7   has_company_logo     17880 non-null  int64 \n",
      " 8   has_questions        17880 non-null  int64 \n",
      " 9   employment_type      14409 non-null  object\n",
      " 10  required_experience  10830 non-null  object\n",
      " 11  required_education   9775 non-null   object\n",
      " 12  industry             12977 non-null  object\n",
      " 13  function             11425 non-null  object\n",
      " 14  fraudulent           17880 non-null  int64 \n",
      " 15  country              17880 non-null  object\n",
      " 16  state                17880 non-null  object\n",
      " 17  city                 17880 non-null  object\n",
      " 18  min_salary           17880 non-null  int64 \n",
      " 19  max_salary           17880 non-null  int64 \n",
      " 20  salary_unspecified   17880 non-null  int64 \n",
      "dtypes: int64(7), object(14)\n",
      "memory usage: 2.9+ MB\n"
     ]
    }
   ],
   "source": [
    "data.info()"
   ]
  },
  {
   "cell_type": "markdown",
   "metadata": {},
   "source": [
    "But the rest features are categorical so it will be well to fill the missing values using the `ValueWasntSpecified` values:"
   ]
  },
  {
   "cell_type": "code",
   "execution_count": 42,
   "metadata": {},
   "outputs": [
    {
     "name": "stdout",
     "output_type": "stream",
     "text": [
      "<class 'pandas.core.frame.DataFrame'>\n",
      "RangeIndex: 17880 entries, 0 to 17879\n",
      "Data columns (total 21 columns):\n",
      " #   Column               Non-Null Count  Dtype \n",
      "---  ------               --------------  ----- \n",
      " 0   title                17880 non-null  object\n",
      " 1   department           17880 non-null  object\n",
      " 2   company_profile      17880 non-null  object\n",
      " 3   description          17880 non-null  object\n",
      " 4   requirements         17880 non-null  object\n",
      " 5   benefits             17880 non-null  object\n",
      " 6   telecommuting        17880 non-null  int64 \n",
      " 7   has_company_logo     17880 non-null  int64 \n",
      " 8   has_questions        17880 non-null  int64 \n",
      " 9   employment_type      17880 non-null  object\n",
      " 10  required_experience  17880 non-null  object\n",
      " 11  required_education   17880 non-null  object\n",
      " 12  industry             17880 non-null  object\n",
      " 13  function             17880 non-null  object\n",
      " 14  fraudulent           17880 non-null  int64 \n",
      " 15  country              17880 non-null  object\n",
      " 16  state                17880 non-null  object\n",
      " 17  city                 17880 non-null  object\n",
      " 18  min_salary           17880 non-null  int64 \n",
      " 19  max_salary           17880 non-null  int64 \n",
      " 20  salary_unspecified   17880 non-null  int64 \n",
      "dtypes: int64(7), object(14)\n",
      "memory usage: 2.9+ MB\n"
     ]
    }
   ],
   "source": [
    "data.fillna('ValueWasntSpecified', inplace=True)\n",
    "data.info()"
   ]
  },
  {
   "cell_type": "markdown",
   "metadata": {},
   "source": [
    "Saving result:"
   ]
  },
  {
   "cell_type": "code",
   "execution_count": 43,
   "metadata": {},
   "outputs": [],
   "source": [
    "data.to_csv('fake_job_postings_prepared.csv', index=None)"
   ]
  },
  {
   "cell_type": "markdown",
   "metadata": {},
   "source": [
    "## Analysis"
   ]
  },
  {
   "cell_type": "code",
   "execution_count": 2,
   "metadata": {},
   "outputs": [],
   "source": [
    "data = pd.read_csv('fake_job_postings_prepared.csv')"
   ]
  },
  {
   "cell_type": "markdown",
   "metadata": {},
   "source": [
    "Let's look at the distribution of our target feature:"
   ]
  },
  {
   "cell_type": "code",
   "execution_count": 3,
   "metadata": {},
   "outputs": [
    {
     "data": {
      "image/png": "[encoded data removed]",
      "text/plain": [
       "<Figure size 576x432 with 1 Axes>"
      ]
     },
     "metadata": {},
     "output_type": "display_data"
    }
   ],
   "source": [
    "plt.figure(figsize=(8, 6))\n",
    "ax = sns.countplot(data.fraudulent)\n",
    "plt.title('The distribution of the target feature (fraudulent)')\n",
    "for p in ax.patches:\n",
    "    ax.annotate(p.get_height(), (p.get_x()+0.35, p.get_height()))\n",
    "\n",
    "plt.show()"
   ]
  },
  {
   "cell_type": "markdown",
   "metadata": {},
   "source": [
    "Classes are not balanced, so we have to use oversampling/undersampling or calculate \\[not-accuracy\\] metrics (ROC AUC, etc.) to estimate our models in the future.\n",
    "\n",
    "Distributions of binary features:"
   ]
  },
  {
   "cell_type": "code",
   "execution_count": 4,
   "metadata": {},
   "outputs": [],
   "source": [
    "bin_features = ['telecommuting', 'has_company_logo', 'has_questions', 'salary_unspecified']"
   ]
  },
  {
   "cell_type": "code",
   "execution_count": 112,
   "metadata": {},
   "outputs": [
    {
     "data": {
      "image/png": "[encoded data removed]",
      "text/plain": [
       "<Figure size 1800x864 with 8 Axes>"
      ]
     },
     "metadata": {},
     "output_type": "display_data"
    }
   ],
   "source": [
    "fig = plt.figure(figsize=(25, 12))\n",
    "outer = gridspec.GridSpec(2, 2, wspace=0.2, hspace=0.2)\n",
    "\n",
    "for feature_ind, feature_name in enumerate(bin_features):\n",
    "    inner = gridspec.GridSpecFromSubplotSpec(1, 2, subplot_spec=outer[feature_ind], \n",
    "                                             wspace=0.1, hspace=0.1)\n",
    "    \n",
    "    for fr_class in [0, 1]:\n",
    "        ax = plt.Subplot(fig, inner[fr_class])\n",
    "        feature_f_vc = data[data.fraudulent == fr_class][feature_name].value_counts().sort_index()\n",
    "        ax.pie(feature_f_vc.values, labels=feature_f_vc.index, autopct='%1.1f%%')\n",
    "        ax.set_title(f'The distribution of {feature_name} (fraudulent = {fr_class})')\n",
    "        fig.add_subplot(ax)\n",
    "\n",
    "fig.suptitle('Distributions of binary features')\n",
    "fig.subplots_adjust(top=0.9)\n",
    "fig.show()"
   ]
  },
  {
   "cell_type": "markdown",
   "metadata": {},
   "source": [
    "Look's like those who post fake job posts more often don't have company logo and more often indicate in their posts that there will be no screening questions at the survey. Let's look at proportions of these features for each target-class and calculate some statistics:"
   ]
  },
  {
   "cell_type": "code",
   "execution_count": 50,
   "metadata": {},
   "outputs": [
    {
     "name": "stdout",
     "output_type": "stream",
     "text": [
      "Feature: telecommuting\n",
      "------\n",
      "Proportion of telecommuting for 0 fraudulent: 0.0413\n",
      "Proportion of telecommuting for 1 fraudulent: 0.0739\n",
      "Сonfidence interval (95%) for 0 fraudulent: [0.0384, 0.0444]\n",
      "Сonfidence interval (95%) for 1 fraudulent: [0.0583, 0.0933]\n",
      "Z-test of telecommuting proportions (two-sided): 3.907078901429856e-06 (p-value)\n",
      "------\n",
      "\n",
      "Feature: has_company_logo\n",
      "------\n",
      "Proportion of has_company_logo for 0 fraudulent: 0.8191\n",
      "Proportion of has_company_logo for 1 fraudulent: 0.3268\n",
      "Сonfidence interval (95%) for 0 fraudulent: [0.8133, 0.8249]\n",
      "Сonfidence interval (95%) for 1 fraudulent: [0.2964, 0.3587]\n",
      "Z-test of has_company_logo proportions (two-sided): 7.920579751525341e-269 (p-value)\n",
      "------\n",
      "\n",
      "Feature: has_questions\n",
      "------\n",
      "Proportion of has_questions for 0 fraudulent: 0.5021\n",
      "Proportion of has_questions for 1 fraudulent: 0.2887\n",
      "Сonfidence interval (95%) for 0 fraudulent: [0.4945, 0.5096]\n",
      "Сonfidence interval (95%) for 1 fraudulent: [0.2595, 0.3197]\n",
      "Z-test of has_questions proportions (two-sided): 1.6381972531336588e-34 (p-value)\n",
      "------\n",
      "\n",
      "Feature: salary_unspecified\n",
      "------\n",
      "Proportion of salary_unspecified for 0 fraudulent: 0.8541\n",
      "Proportion of salary_unspecified for 1 fraudulent: 0.7483\n",
      "Сonfidence interval (95%) for 0 fraudulent: [0.8487, 0.8593]\n",
      "Сonfidence interval (95%) for 1 fraudulent: [0.7183, 0.776]\n",
      "Z-test of salary_unspecified proportions (two-sided): 2.1296874846984198e-17 (p-value)\n",
      "------\n",
      "\n"
     ]
    }
   ],
   "source": [
    "for feature_name in bin_features:\n",
    "    feature_values_of_0f = data[data.fraudulent == 0][feature_name].values\n",
    "    feature_values_of_1f = data[data.fraudulent == 1][feature_name].values\n",
    "    fv0f_count, fv0f_nobs = sum(feature_values_of_0f), len(feature_values_of_0f)\n",
    "    fv1f_count, fv1f_nobs = sum(feature_values_of_1f), len(feature_values_of_1f)\n",
    "    \n",
    "    print(f'Feature: {feature_name}\\n------')\n",
    "    \n",
    "    print(f'Proportion of {feature_name} for 0 fraudulent: {round(fv0f_count / fv0f_nobs, 4)}')\n",
    "    print(f'Proportion of {feature_name} for 1 fraudulent: {round(fv1f_count / fv1f_nobs, 4)}')\n",
    "    \n",
    "    confint_0f = list(map(lambda lim: round(lim, 4), proportion_confint(fv0f_count, fv0f_nobs, \n",
    "                                                                        method='wilson')))\n",
    "    confint_1f = list(map(lambda lim: round(lim, 4), proportion_confint(fv1f_count, fv1f_nobs, \n",
    "                                                                        method='wilson')))\n",
    "    print(f'Сonfidence interval (95%) for 0 fraudulent: {confint_0f}')\n",
    "    print(f'Сonfidence interval (95%) for 1 fraudulent: {confint_1f}')\n",
    "    \n",
    "    stat, p = proportions_ztest([fv0f_count, fv1f_count], [fv0f_nobs, fv1f_nobs])\n",
    "    print(f'Z-test of {feature_name} proportions (two-sided): {p} (p-value)')\n",
    "    \n",
    "    print('------\\n')"
   ]
  },
  {
   "cell_type": "markdown",
   "metadata": {},
   "source": [
    "Differences in proportions of all binary features are statistically significant for predicting the target variable (the `telecommuting` is least significant, the `has_company_logo` is most).\n",
    "\n",
    "Let's look at categorical features:"
   ]
  },
  {
   "cell_type": "code",
   "execution_count": 26,
   "metadata": {},
   "outputs": [],
   "source": [
    "cat_features = ['department', 'employment_type', 'required_experience', \n",
    "                'required_education', 'industry', 'function', 'country', \n",
    "                'state', 'city']"
   ]
  },
  {
   "cell_type": "code",
   "execution_count": 8,
   "metadata": {},
   "outputs": [
    {
     "name": "stdout",
     "output_type": "stream",
     "text": [
      "Count of department's unique values: 1338\n",
      "Count of employment_type's unique values: 6\n",
      "Count of required_experience's unique values: 8\n",
      "Count of required_education's unique values: 14\n",
      "Count of industry's unique values: 132\n",
      "Count of function's unique values: 38\n",
      "Count of country's unique values: 91\n",
      "Count of state's unique values: 325\n",
      "Count of city's unique values: 2388\n"
     ]
    }
   ],
   "source": [
    "for feature_name in cat_features:\n",
    "    print(f'Count of {feature_name}\\'s unique values: {data[feature_name].unique().shape[0]}')"
   ]
  },
  {
   "cell_type": "markdown",
   "metadata": {},
   "source": [
    "It will be difficult to make any kind of plot for every categorical feature due to the number of classes in some of them. Let's plot the ones that have the least amount of classes (`plotly` charts fit better for this):"
   ]
  },
  {
   "cell_type": "code",
   "execution_count": 115,
   "metadata": {
    "scrolled": false
   },
   "outputs": [],
   "source": [
    "employment_type_0f_vc = data[data.fraudulent == 0].employment_type.value_counts()\n",
    "employment_type_1f_vc = data[data.fraudulent == 1].employment_type.value_counts()\n",
    "\n",
    "fig = make_subplots(rows=1, cols=2, specs=[[{'type':'domain'}, {'type':'domain'}]], \n",
    "                    subplot_titles=['fraudulent = 0', 'fraudulent = 1'])\n",
    "fig.add_trace(go.Pie(labels=employment_type_0f_vc.index, \n",
    "                     values=employment_type_0f_vc.values), \n",
    "              row=1, col=1)\n",
    "fig.add_trace(go.Pie(labels=employment_type_1f_vc.index, \n",
    "                     values=employment_type_1f_vc.values), \n",
    "              row=1, col=2)\n",
    "\n",
    "fig.update_layout(title_text='The distribution of employment_type')\n",
    "# fig.show()\n",
    "fig.write_image(\"images/employment_type_distr.png\", width=1200, height=700)"
   ]
  },
  {
   "cell_type": "markdown",
   "metadata": {},
   "source": [
    "![images/employment_type_distr.png](images/employment_type_distr.png)"
   ]
  },
  {
   "cell_type": "code",
   "execution_count": 116,
   "metadata": {},
   "outputs": [],
   "source": [
    "required_experience_0f_vc = data[data.fraudulent == 0].required_experience.value_counts()\n",
    "required_experience_1f_vc = data[data.fraudulent == 1].required_experience.value_counts()\n",
    "\n",
    "fig = make_subplots(rows=1, cols=2, specs=[[{'type':'domain'}, {'type':'domain'}]], \n",
    "                    subplot_titles=['fraudulent = 0', 'fraudulent = 1'])\n",
    "fig.add_trace(go.Pie(labels=required_experience_0f_vc.index, \n",
    "                     values=required_experience_0f_vc.values), \n",
    "              row=1, col=1)\n",
    "fig.add_trace(go.Pie(labels=required_experience_1f_vc.index, \n",
    "                     values=required_experience_1f_vc.values), \n",
    "              row=1, col=2)\n",
    "\n",
    "fig.update_layout(title_text='The distribution of required_experience')\n",
    "# fig.show()\n",
    "fig.write_image(\"images/required_experience_distr.png\", width=1200, height=700)"
   ]
  },
  {
   "cell_type": "markdown",
   "metadata": {},
   "source": [
    "![images/required_experience_distr.png](images/required_experience_distr.png)"
   ]
  },
  {
   "cell_type": "code",
   "execution_count": 117,
   "metadata": {},
   "outputs": [],
   "source": [
    "required_education_0f_vc = data[data.fraudulent == 0].required_education.value_counts()\n",
    "required_education_1f_vc = data[data.fraudulent == 1].required_education.value_counts()\n",
    "\n",
    "fig = make_subplots(rows=1, cols=2, specs=[[{'type':'domain'}, {'type':'domain'}]], \n",
    "                    subplot_titles=['fraudulent = 0', 'fraudulent = 1'])\n",
    "fig.add_trace(go.Pie(labels=required_education_0f_vc.index, \n",
    "                     values=required_education_0f_vc.values), \n",
    "              row=1, col=1)\n",
    "fig.add_trace(go.Pie(labels=required_education_1f_vc.index, \n",
    "                     values=required_education_1f_vc.values), \n",
    "              row=1, col=2)\n",
    "\n",
    "fig.update_layout(title_text='The distribution of required_education')\n",
    "# fig.show()\n",
    "fig.write_image(\"images/required_education_distr.png\", width=1200, height=700)"
   ]
  },
  {
   "cell_type": "markdown",
   "metadata": {},
   "source": [
    "![images/required_education_distr.png](images/required_education_distr.png)"
   ]
  },
  {
   "cell_type": "markdown",
   "metadata": {},
   "source": [
    "Let's check whether proportions of `fraudulent` for each categorical feature's class-value are uniformly distributed using $\\chi^2$ test (check if all proportions are equal for every class for each feature):"
   ]
  },
  {
   "cell_type": "code",
   "execution_count": 11,
   "metadata": {
    "scrolled": true
   },
   "outputs": [
    {
     "name": "stdout",
     "output_type": "stream",
     "text": [
      "Chi-square test of department for 1 fraudulent: nan (p-value)\n",
      "Chi-square test of employment_type for 1 fraudulent: 5.975678297496309e-19 (p-value)\n",
      "Chi-square test of required_experience for 1 fraudulent: 7.655839281151641e-25 (p-value)\n",
      "Chi-square test of required_education for 1 fraudulent: 3.667839517708555e-126 (p-value)\n",
      "Chi-square test of industry for 1 fraudulent: nan (p-value)\n",
      "Chi-square test of function for 1 fraudulent: 5.651904232239351e-127 (p-value)\n",
      "Chi-square test of country for 1 fraudulent: nan (p-value)\n",
      "Chi-square test of state for 1 fraudulent: nan (p-value)\n",
      "Chi-square test of city for 1 fraudulent: nan (p-value)\n"
     ]
    }
   ],
   "source": [
    "for feature_name in cat_features:\n",
    "    feature_0f_vc = data[data.fraudulent == 0][feature_name].value_counts()\n",
    "    feature_1f_vc = data[data.fraudulent == 1][feature_name].value_counts()\n",
    "    \n",
    "    feature_fraudulent_info = pd.DataFrame({'f0': feature_0f_vc, \n",
    "                                            'f1': feature_1f_vc})\n",
    "    feature_fraudulent_info.fillna(0, inplace=True)\n",
    "    feature_fraudulent_info['total'] = feature_fraudulent_info['f0'] + feature_fraudulent_info['f1']\n",
    "    feature_fraudulent_info['prop_of_1'] = feature_fraudulent_info['f1'] / feature_fraudulent_info['total']\n",
    "    \n",
    "    prop_1_mean = feature_fraudulent_info['prop_of_1'].mean()\n",
    "    expected_for_1 = round(feature_fraudulent_info['total'] * prop_1_mean)\n",
    "    \n",
    "    stat, p = stats.chisquare(feature_fraudulent_info['f1'], expected_for_1, ddof=1)\n",
    "    print(f'Chi-square test of {feature_name} for 1 fraudulent: {p} (p-value)')"
   ]
  },
  {
   "cell_type": "markdown",
   "metadata": {},
   "source": [
    "`stats.chisquare` returns `nan` when a big count of observations is passed... I think we can do nothing with it. Though differencies of `fraudulent` proportions in `employment_type`, `required_experience`, `required_education` and `function` classes are significant for `fraudulent` prediction.\n",
    "\n",
    "Now let's look at numerical features (salary info):"
   ]
  },
  {
   "cell_type": "code",
   "execution_count": 25,
   "metadata": {},
   "outputs": [],
   "source": [
    "num_features = ['min_salary', 'max_salary']"
   ]
  },
  {
   "cell_type": "code",
   "execution_count": 34,
   "metadata": {},
   "outputs": [
    {
     "data": {
      "image/png": "[encoded data removed]",
      "text/plain": [
       "<Figure size 1080x504 with 2 Axes>"
      ]
     },
     "metadata": {},
     "output_type": "display_data"
    }
   ],
   "source": [
    "fig, axes = plt.subplots(1, 2, figsize=(15, 7))\n",
    "\n",
    "for ind, feature_name in enumerate(num_features):\n",
    "    sns.boxplot(y=feature_name, x='fraudulent', data=data[data.salary_unspecified == 0], ax=axes[ind])\n",
    "    axes[ind].set_ylim([-1e4, 2e5])\n",
    "    axes[ind].set_title(f'The distribution of specified {feature_name}')\n",
    "\n",
    "fig.suptitle('Distributions of min_salary and max_salary')\n",
    "fig.show()"
   ]
  },
  {
   "cell_type": "markdown",
   "metadata": {},
   "source": [
    "Those who write fake job posts often offer slightly lower salaries... Let's look at pairwise average salaries:"
   ]
  },
  {
   "cell_type": "code",
   "execution_count": 27,
   "metadata": {},
   "outputs": [],
   "source": [
    "pair_mean_salary = data[data.salary_unspecified == 0][num_features].mean(axis=1)"
   ]
  },
  {
   "cell_type": "code",
   "execution_count": 35,
   "metadata": {},
   "outputs": [
    {
     "data": {
      "image/png": "[encoded data removed]",
      "text/plain": [
       "<Figure size 504x504 with 1 Axes>"
      ]
     },
     "metadata": {},
     "output_type": "display_data"
    }
   ],
   "source": [
    "plt.figure(figsize=(7, 7))\n",
    "sns.boxplot(y=pair_mean_salary, x='fraudulent', data=data[data.salary_unspecified == 0])\n",
    "plt.ylim([-1e4, 2e5])\n",
    "plt.ylabel('Pair mean salary')\n",
    "plt.title('Pair mean salary distribution')\n",
    "plt.show()"
   ]
  },
  {
   "cell_type": "markdown",
   "metadata": {},
   "source": [
    "There is a difference in medians, let's calculate them and some descriptive statistics (there is no sense in compairing means because there are too many outliers here):"
   ]
  },
  {
   "cell_type": "code",
   "execution_count": 28,
   "metadata": {},
   "outputs": [],
   "source": [
    "def get_median_confint(data, n_samples=1000, alpha=0.05):\n",
    "    '''Calculates and returns confidence interval for a median\n",
    "    of a data using bootstrap sampling mechanism.'''\n",
    "    indices = np.random.randint(0, len(data), (n_samples, len(data)))\n",
    "    samples = data[indices]\n",
    "    \n",
    "    median_scores = np.median(samples, axis=1)\n",
    "    boundaries = np.percentile(median_scores, [100 * alpha / 2, 100 * (1 - alpha / 2)])\n",
    "    return boundaries"
   ]
  },
  {
   "cell_type": "code",
   "execution_count": 29,
   "metadata": {},
   "outputs": [
    {
     "data": {
      "text/html": [
       "<div>\n",
       "<style scoped>\n",
       "    .dataframe tbody tr th:only-of-type {\n",
       "        vertical-align: middle;\n",
       "    }\n",
       "\n",
       "    .dataframe tbody tr th {\n",
       "        vertical-align: top;\n",
       "    }\n",
       "\n",
       "    .dataframe thead th {\n",
       "        text-align: right;\n",
       "    }\n",
       "</style>\n",
       "<table border=\"1\" class=\"dataframe\">\n",
       "  <thead>\n",
       "    <tr style=\"text-align: right;\">\n",
       "      <th></th>\n",
       "      <th>min_salary</th>\n",
       "      <th>max_salary</th>\n",
       "      <th>fraudulent</th>\n",
       "      <th>pair_mean_salary</th>\n",
       "    </tr>\n",
       "  </thead>\n",
       "  <tbody>\n",
       "    <tr>\n",
       "      <th>6</th>\n",
       "      <td>20000</td>\n",
       "      <td>28000</td>\n",
       "      <td>0</td>\n",
       "      <td>24000.0</td>\n",
       "    </tr>\n",
       "    <tr>\n",
       "      <th>10</th>\n",
       "      <td>100000</td>\n",
       "      <td>120000</td>\n",
       "      <td>0</td>\n",
       "      <td>110000.0</td>\n",
       "    </tr>\n",
       "    <tr>\n",
       "      <th>15</th>\n",
       "      <td>120000</td>\n",
       "      <td>150000</td>\n",
       "      <td>0</td>\n",
       "      <td>135000.0</td>\n",
       "    </tr>\n",
       "    <tr>\n",
       "      <th>23</th>\n",
       "      <td>100000</td>\n",
       "      <td>120000</td>\n",
       "      <td>0</td>\n",
       "      <td>110000.0</td>\n",
       "    </tr>\n",
       "    <tr>\n",
       "      <th>31</th>\n",
       "      <td>50000</td>\n",
       "      <td>65000</td>\n",
       "      <td>0</td>\n",
       "      <td>57500.0</td>\n",
       "    </tr>\n",
       "  </tbody>\n",
       "</table>\n",
       "</div>"
      ],
      "text/plain": [
       "    min_salary  max_salary  fraudulent  pair_mean_salary\n",
       "6        20000       28000           0           24000.0\n",
       "10      100000      120000           0          110000.0\n",
       "15      120000      150000           0          135000.0\n",
       "23      100000      120000           0          110000.0\n",
       "31       50000       65000           0           57500.0"
      ]
     },
     "execution_count": 29,
     "metadata": {},
     "output_type": "execute_result"
    }
   ],
   "source": [
    "specified_salaries = data[data.salary_unspecified == 0][num_features + ['fraudulent']]\n",
    "specified_salaries['pair_mean_salary'] = pair_mean_salary\n",
    "specified_salaries.head()"
   ]
  },
  {
   "cell_type": "code",
   "execution_count": 30,
   "metadata": {},
   "outputs": [
    {
     "name": "stdout",
     "output_type": "stream",
     "text": [
      "Feature: min_salary\n",
      "------\n",
      "Median of min_salary for 0 fraudulent: 40000.0\n",
      "Median of min_salary for 1 fraudulent: 30000.0\n",
      "Interval of median salary for 0 fraudulent: [40000. 40000.]\n",
      "Interval of median salary for 1 fraudulent: [27000. 30000.]\n",
      "Kruskal-Wallis H Test result: 4.594141922613073e-06 (p-value)\n",
      "------\n",
      "\n",
      "Feature: max_salary\n",
      "------\n",
      "Median of max_salary for 0 fraudulent: 55000.0\n",
      "Median of max_salary for 1 fraudulent: 45000.0\n",
      "Interval of median salary for 0 fraudulent: [50000. 57600.]\n",
      "Interval of median salary for 1 fraudulent: [40000. 50000.]\n",
      "Kruskal-Wallis H Test result: 0.01256725011254797 (p-value)\n",
      "------\n",
      "\n",
      "Feature: pair_mean_salary\n",
      "------\n",
      "Median of pair_mean_salary for 0 fraudulent: 47500.0\n",
      "Median of pair_mean_salary for 1 fraudulent: 37500.0\n",
      "Interval of median salary for 0 fraudulent: [45000. 50000.]\n",
      "Interval of median salary for 1 fraudulent: [33250. 40000.]\n",
      "Kruskal-Wallis H Test result: 0.008750171802455107 (p-value)\n",
      "------\n",
      "\n"
     ]
    }
   ],
   "source": [
    "for feature_name in specified_salaries.drop('fraudulent', axis=1).columns:\n",
    "    feature_values_of_0f = specified_salaries[specified_salaries.fraudulent == 0][feature_name]\n",
    "    feature_values_of_1f = specified_salaries[specified_salaries.fraudulent == 1][feature_name]\n",
    "    \n",
    "    print(f'Feature: {feature_name}\\n------')\n",
    "    print(f'Median of {feature_name} for 0 fraudulent: {feature_values_of_0f.median()}')\n",
    "    print(f'Median of {feature_name} for 1 fraudulent: {feature_values_of_1f.median()}')\n",
    "    print(f'Interval of median salary for 0 fraudulent: {get_median_confint(feature_values_of_0f.values)}')\n",
    "    print(f'Interval of median salary for 1 fraudulent: {get_median_confint(feature_values_of_1f.values)}')\n",
    "\n",
    "    stat, p = stats.kruskal(feature_values_of_0f, feature_values_of_1f)\n",
    "    print(f'Kruskal-Wallis H Test result: {p} (p-value)')\n",
    "    print('------\\n')"
   ]
  },
  {
   "cell_type": "markdown",
   "metadata": {},
   "source": [
    "Differencies between `min_salary`'s madians of 0 and 1 `fraudulent` are much more significant than between `max_salary`'s ones. OK. \n",
    "\n",
    "Let's compare mean count of words in text of each textual feature for groups of 0 and 1 `fraudulent`:"
   ]
  },
  {
   "cell_type": "code",
   "execution_count": null,
   "metadata": {},
   "outputs": [],
   "source": [
    "text_features = ['title', 'company_profile', 'description', 'requirements', 'benefits']"
   ]
  },
  {
   "cell_type": "code",
   "execution_count": 45,
   "metadata": {
    "scrolled": false
   },
   "outputs": [
    {
     "name": "stdout",
     "output_type": "stream",
     "text": [
      "Feature: title\n",
      "------\n",
      "Mean count of words for 0 fraudulent: 3.2793581756200774\n",
      "Mean count of words for 1 fraudulent: 3.561200923787529\n",
      "Confidense interval (95%) for 0 fraudulent: [3.258, 3.3007]\n",
      "Confidense interval (95%) for 1 fraudulent: [3.4394, 3.683]\n",
      "Kruskal-Wallis H Test result: 0.0032999872625078756 (p-value)\n"
     ]
    },
    {
     "data": {
      "image/png": "[encoded data removed]",
      "text/plain": [
       "<Figure size 720x504 with 1 Axes>"
      ]
     },
     "metadata": {},
     "output_type": "display_data"
    },
    {
     "name": "stdout",
     "output_type": "stream",
     "text": [
      "------\n",
      "\n",
      "\n",
      "Feature: company_profile\n",
      "------\n",
      "Mean count of words for 0 fraudulent: 56.386740331491715\n",
      "Mean count of words for 1 fraudulent: 19.759815242494227\n",
      "Confidense interval (95%) for 0 fraudulent: [55.6515, 57.122]\n",
      "Confidense interval (95%) for 1 fraudulent: [17.6668, 21.8528]\n",
      "Kruskal-Wallis H Test result: 4.360811879656675e-153 (p-value)\n"
     ]
    },
    {
     "data": {
      "image/png": "[encoded data removed]",
      "text/plain": [
       "<Figure size 720x504 with 1 Axes>"
      ]
     },
     "metadata": {},
     "output_type": "display_data"
    },
    {
     "name": "stdout",
     "output_type": "stream",
     "text": [
      "------\n",
      "\n",
      "\n",
      "Feature: description\n",
      "------\n",
      "Mean count of words for 0 fraudulent: 103.84518631715058\n",
      "Mean count of words for 1 fraudulent: 99.92147806004618\n",
      "Confidense interval (95%) for 0 fraudulent: [102.7299, 104.9604]\n",
      "Confidense interval (95%) for 1 fraudulent: [94.138, 105.705]\n",
      "Kruskal-Wallis H Test result: 1.7421494569873633e-06 (p-value)\n"
     ]
    },
    {
     "data": {
      "image/png": "[encoded data removed]",
      "text/plain": [
       "<Figure size 720x504 with 1 Axes>"
      ]
     },
     "metadata": {},
     "output_type": "display_data"
    },
    {
     "name": "stdout",
     "output_type": "stream",
     "text": [
      "------\n",
      "\n",
      "\n",
      "Feature: requirements\n",
      "------\n",
      "Mean count of words for 0 fraudulent: 51.29228870342071\n",
      "Mean count of words for 1 fraudulent: 39.08660508083141\n",
      "Confidense interval (95%) for 0 fraudulent: [50.5047, 52.0799]\n",
      "Confidense interval (95%) for 1 fraudulent: [35.8385, 42.3347]\n",
      "Kruskal-Wallis H Test result: 1.7208619207015285e-20 (p-value)\n"
     ]
    },
    {
     "data": {
      "image/png": "[encoded data removed]",
      "text/plain": [
       "<Figure size 720x504 with 1 Axes>"
      ]
     },
     "metadata": {},
     "output_type": "display_data"
    },
    {
     "name": "stdout",
     "output_type": "stream",
     "text": [
      "------\n",
      "\n",
      "\n",
      "Feature: benefits\n",
      "------\n",
      "Mean count of words for 0 fraudulent: 18.726343011637475\n",
      "Mean count of words for 1 fraudulent: 18.12124711316397\n",
      "Confidense interval (95%) for 0 fraudulent: [18.2951, 19.1576]\n",
      "Confidense interval (95%) for 1 fraudulent: [16.0942, 20.1482]\n",
      "Kruskal-Wallis H Test result: 0.03483726570005422 (p-value)\n"
     ]
    },
    {
     "data": {
      "image/png": "[encoded data removed]",
      "text/plain": [
       "<Figure size 720x504 with 1 Axes>"
      ]
     },
     "metadata": {},
     "output_type": "display_data"
    },
    {
     "name": "stdout",
     "output_type": "stream",
     "text": [
      "------\n",
      "\n",
      "\n"
     ]
    }
   ],
   "source": [
    "for feature_name in text_features:\n",
    "    feature_values_0f = data[data.fraudulent == 0][feature_name].astype(str)\n",
    "    feature_values_1f = data[data.fraudulent == 1][feature_name].astype(str)\n",
    "    \n",
    "    fv_0f_len = feature_values_0f.str.split(' ').apply(len)\n",
    "    fv_1f_len = feature_values_1f.str.split(' ').apply(len)\n",
    "    \n",
    "    print(f'Feature: {feature_name}\\n------')\n",
    "    print(f'Mean count of words for 0 fraudulent: {fv_0f_len.mean()}')\n",
    "    print(f'Mean count of words for 1 fraudulent: {fv_1f_len.mean()}')\n",
    "    \n",
    "    confint_0f = list(map(lambda lim: round(lim, 4), zconfint(fv_0f_len, alpha=0.05)))\n",
    "    confint_1f = list(map(lambda lim: round(lim, 4), zconfint(fv_1f_len, alpha=0.05)))\n",
    "    print(f'Confidense interval (95%) for 0 fraudulent: {confint_0f}')\n",
    "    print(f'Confidense interval (95%) for 1 fraudulent: {confint_1f}')\n",
    "    \n",
    "    stat, p = stats.kruskal(fv_0f_len, fv_1f_len)\n",
    "    print(f'Kruskal-Wallis H Test result: {p} (p-value)')\n",
    "    \n",
    "    plt.figure(figsize=(10, 7))\n",
    "    sns.distplot(fv_0f_len, label='fraudulent = 0')\n",
    "    sns.distplot(fv_1f_len, label='fraudulent = 1')\n",
    "    plt.title(f'The distribution of {feature_name}\\'s count of words')\n",
    "    plt.legend()\n",
    "    plt.show()\n",
    "    \n",
    "    print('------\\n\\n')"
   ]
  },
  {
   "cell_type": "markdown",
   "metadata": {},
   "source": [
    "Differencies in `title`, `description` and `benefits` are not too significant. But it may be usefull to add two numerical features to dataset that will describe counts of words in `company_profile` and `requirements`:"
   ]
  },
  {
   "cell_type": "code",
   "execution_count": 94,
   "metadata": {},
   "outputs": [
    {
     "data": {
      "text/html": [
       "<div>\n",
       "<style scoped>\n",
       "    .dataframe tbody tr th:only-of-type {\n",
       "        vertical-align: middle;\n",
       "    }\n",
       "\n",
       "    .dataframe tbody tr th {\n",
       "        vertical-align: top;\n",
       "    }\n",
       "\n",
       "    .dataframe thead th {\n",
       "        text-align: right;\n",
       "    }\n",
       "</style>\n",
       "<table border=\"1\" class=\"dataframe\">\n",
       "  <thead>\n",
       "    <tr style=\"text-align: right;\">\n",
       "      <th></th>\n",
       "      <th>company_profile_mean_count_of_words</th>\n",
       "      <th>requirements_mean_count_of_words</th>\n",
       "    </tr>\n",
       "  </thead>\n",
       "  <tbody>\n",
       "    <tr>\n",
       "      <th>0</th>\n",
       "      <td>86</td>\n",
       "      <td>73</td>\n",
       "    </tr>\n",
       "    <tr>\n",
       "      <th>1</th>\n",
       "      <td>96</td>\n",
       "      <td>117</td>\n",
       "    </tr>\n",
       "    <tr>\n",
       "      <th>2</th>\n",
       "      <td>75</td>\n",
       "      <td>103</td>\n",
       "    </tr>\n",
       "    <tr>\n",
       "      <th>3</th>\n",
       "      <td>55</td>\n",
       "      <td>121</td>\n",
       "    </tr>\n",
       "    <tr>\n",
       "      <th>4</th>\n",
       "      <td>146</td>\n",
       "      <td>61</td>\n",
       "    </tr>\n",
       "  </tbody>\n",
       "</table>\n",
       "</div>"
      ],
      "text/plain": [
       "   company_profile_mean_count_of_words  requirements_mean_count_of_words\n",
       "0                                   86                                73\n",
       "1                                   96                               117\n",
       "2                                   75                               103\n",
       "3                                   55                               121\n",
       "4                                  146                                61"
      ]
     },
     "execution_count": 94,
     "metadata": {},
     "output_type": "execute_result"
    }
   ],
   "source": [
    "data['company_profile_mean_count_of_words'] = data['company_profile'].astype(str).str.split(' ').apply(len)\n",
    "data['requirements_mean_count_of_words'] = data['requirements'].astype(str).str.split(' ').apply(len)\n",
    "data.head().iloc[:, -2:]"
   ]
  },
  {
   "cell_type": "markdown",
   "metadata": {},
   "source": [
    "Let's take a look at the most frequent bigrams in `company_profile` texts:"
   ]
  },
  {
   "cell_type": "code",
   "execution_count": 55,
   "metadata": {},
   "outputs": [],
   "source": [
    "def make_bigrams(iterator):\n",
    "    '''Iterates through a sequence in overlapping pairs.'''\n",
    "    a, b = tee(iterator)\n",
    "    next(b, None)\n",
    "    return zip(a, b)"
   ]
  },
  {
   "cell_type": "code",
   "execution_count": 89,
   "metadata": {},
   "outputs": [],
   "source": [
    "company_profile_bigram_counters_0f = [Counter(make_bigrams(text.split(' '))) \n",
    "                                      for text in data[data.fraudulent == 0].company_profile.values]\n",
    "company_profile_bigram_counters_1f = [Counter(make_bigrams(text.split(' '))) \n",
    "                                      for text in data[data.fraudulent == 1].company_profile.values]"
   ]
  },
  {
   "cell_type": "code",
   "execution_count": 90,
   "metadata": {},
   "outputs": [
    {
     "name": "stdout",
     "output_type": "stream",
     "text": [
      "CPU times: user 9min 22s, sys: 24.4 ms, total: 9min 22s\n",
      "Wall time: 9min 24s\n"
     ]
    }
   ],
   "source": [
    "%%time\n",
    "company_profile_bigram_counters_0f_sum = sum(company_profile_bigram_counters_0f, Counter())\n",
    "company_profile_bigram_counters_1f_sum = sum(company_profile_bigram_counters_1f, Counter())"
   ]
  },
  {
   "cell_type": "code",
   "execution_count": 92,
   "metadata": {},
   "outputs": [
    {
     "data": {
      "text/html": [
       "<div>\n",
       "<style scoped>\n",
       "    .dataframe tbody tr th:only-of-type {\n",
       "        vertical-align: middle;\n",
       "    }\n",
       "\n",
       "    .dataframe tbody tr th {\n",
       "        vertical-align: top;\n",
       "    }\n",
       "\n",
       "    .dataframe thead th {\n",
       "        text-align: right;\n",
       "    }\n",
       "</style>\n",
       "<table border=\"1\" class=\"dataframe\">\n",
       "  <thead>\n",
       "    <tr style=\"text-align: right;\">\n",
       "      <th></th>\n",
       "      <th>bigram_0f</th>\n",
       "      <th>count_0f</th>\n",
       "      <th>bigram_1f</th>\n",
       "      <th>count_1f</th>\n",
       "    </tr>\n",
       "  </thead>\n",
       "  <tbody>\n",
       "    <tr>\n",
       "      <th>0</th>\n",
       "      <td>busi process</td>\n",
       "      <td>1284</td>\n",
       "      <td>aptitud staf</td>\n",
       "      <td>107</td>\n",
       "    </tr>\n",
       "    <tr>\n",
       "      <th>1</th>\n",
       "      <td>full time</td>\n",
       "      <td>1172</td>\n",
       "      <td>refin resourc</td>\n",
       "      <td>79</td>\n",
       "    </tr>\n",
       "    <tr>\n",
       "      <th>2</th>\n",
       "      <td>increas product</td>\n",
       "      <td>1159</td>\n",
       "      <td>candid enjoy</td>\n",
       "      <td>70</td>\n",
       "    </tr>\n",
       "    <tr>\n",
       "      <th>3</th>\n",
       "      <td>around world</td>\n",
       "      <td>1150</td>\n",
       "      <td>employe receiv</td>\n",
       "      <td>70</td>\n",
       "    </tr>\n",
       "    <tr>\n",
       "      <th>4</th>\n",
       "      <td>document commun</td>\n",
       "      <td>1148</td>\n",
       "      <td>staf solut</td>\n",
       "      <td>61</td>\n",
       "    </tr>\n",
       "    <tr>\n",
       "      <th>5</th>\n",
       "      <td>high qualiti</td>\n",
       "      <td>936</td>\n",
       "      <td>sign bonu</td>\n",
       "      <td>56</td>\n",
       "    </tr>\n",
       "    <tr>\n",
       "      <th>6</th>\n",
       "      <td>custom satisfact</td>\n",
       "      <td>792</td>\n",
       "      <td>year access</td>\n",
       "      <td>56</td>\n",
       "    </tr>\n",
       "    <tr>\n",
       "      <th>7</th>\n",
       "      <td>new york</td>\n",
       "      <td>755</td>\n",
       "      <td>servic town</td>\n",
       "      <td>56</td>\n",
       "    </tr>\n",
       "    <tr>\n",
       "      <th>8</th>\n",
       "      <td>solut help</td>\n",
       "      <td>730</td>\n",
       "      <td>candid encourag</td>\n",
       "      <td>56</td>\n",
       "    </tr>\n",
       "    <tr>\n",
       "      <th>9</th>\n",
       "      <td>help teacher</td>\n",
       "      <td>728</td>\n",
       "      <td>encourag particip</td>\n",
       "      <td>56</td>\n",
       "    </tr>\n",
       "    <tr>\n",
       "      <th>10</th>\n",
       "      <td>teacher get</td>\n",
       "      <td>726</td>\n",
       "      <td>real estat</td>\n",
       "      <td>47</td>\n",
       "    </tr>\n",
       "    <tr>\n",
       "      <th>11</th>\n",
       "      <td>get safe</td>\n",
       "      <td>726</td>\n",
       "      <td>partner effort</td>\n",
       "      <td>43</td>\n",
       "    </tr>\n",
       "    <tr>\n",
       "      <th>12</th>\n",
       "      <td>safe amp</td>\n",
       "      <td>726</td>\n",
       "      <td>effort streamlin</td>\n",
       "      <td>43</td>\n",
       "    </tr>\n",
       "    <tr>\n",
       "      <th>13</th>\n",
       "      <td>amp secur</td>\n",
       "      <td>726</td>\n",
       "      <td>streamlin hire</td>\n",
       "      <td>43</td>\n",
       "    </tr>\n",
       "    <tr>\n",
       "      <th>14</th>\n",
       "      <td>secur job</td>\n",
       "      <td>726</td>\n",
       "      <td>hire process</td>\n",
       "      <td>43</td>\n",
       "    </tr>\n",
       "    <tr>\n",
       "      <th>15</th>\n",
       "      <td>job abroad</td>\n",
       "      <td>726</td>\n",
       "      <td>process provid</td>\n",
       "      <td>43</td>\n",
       "    </tr>\n",
       "    <tr>\n",
       "      <th>16</th>\n",
       "      <td>help compani</td>\n",
       "      <td>716</td>\n",
       "      <td>provid effici</td>\n",
       "      <td>43</td>\n",
       "    </tr>\n",
       "    <tr>\n",
       "      <th>17</th>\n",
       "      <td>manag servic</td>\n",
       "      <td>711</td>\n",
       "      <td>effici effect</td>\n",
       "      <td>43</td>\n",
       "    </tr>\n",
       "    <tr>\n",
       "      <th>18</th>\n",
       "      <td>provid full</td>\n",
       "      <td>699</td>\n",
       "      <td>effect recruitng</td>\n",
       "      <td>43</td>\n",
       "    </tr>\n",
       "    <tr>\n",
       "      <th>19</th>\n",
       "      <td>qualiti candid</td>\n",
       "      <td>698</td>\n",
       "      <td>recruitng model</td>\n",
       "      <td>43</td>\n",
       "    </tr>\n",
       "  </tbody>\n",
       "</table>\n",
       "</div>"
      ],
      "text/plain": [
       "           bigram_0f  count_0f          bigram_1f  count_1f\n",
       "0       busi process      1284       aptitud staf       107\n",
       "1          full time      1172      refin resourc        79\n",
       "2    increas product      1159       candid enjoy        70\n",
       "3       around world      1150     employe receiv        70\n",
       "4    document commun      1148         staf solut        61\n",
       "5       high qualiti       936          sign bonu        56\n",
       "6   custom satisfact       792        year access        56\n",
       "7           new york       755        servic town        56\n",
       "8         solut help       730    candid encourag        56\n",
       "9       help teacher       728  encourag particip        56\n",
       "10       teacher get       726         real estat        47\n",
       "11          get safe       726     partner effort        43\n",
       "12          safe amp       726   effort streamlin        43\n",
       "13         amp secur       726     streamlin hire        43\n",
       "14         secur job       726       hire process        43\n",
       "15        job abroad       726     process provid        43\n",
       "16      help compani       716      provid effici        43\n",
       "17      manag servic       711      effici effect        43\n",
       "18       provid full       699   effect recruitng        43\n",
       "19    qualiti candid       698    recruitng model        43"
      ]
     },
     "execution_count": 92,
     "metadata": {},
     "output_type": "execute_result"
    }
   ],
   "source": [
    "cp_bc_0f_s_df = pd.DataFrame(company_profile_bigram_counters_0f_sum.most_common(20),\n",
    "                             columns=['bigram_0f', 'count_0f'])\n",
    "cp_bc_0f_s_df['bigram_0f'] = cp_bc_0f_s_df['bigram_0f'].apply(' '.join)\n",
    "\n",
    "cp_bc_1f_s_df = pd.DataFrame(company_profile_bigram_counters_1f_sum.most_common(20),\n",
    "                             columns=['bigram_1f', 'count_1f'])\n",
    "cp_bc_1f_s_df['bigram_1f'] = cp_bc_1f_s_df['bigram_1f'].apply(' '.join)\n",
    "\n",
    "pd.concat([cp_bc_0f_s_df, cp_bc_1f_s_df], axis=1)"
   ]
  },
  {
   "cell_type": "markdown",
   "metadata": {},
   "source": [
    "We can build a \"chain\" and transform it into a sentense using bigrams with the 43 `count_1f` value from the `bigram_1f` column if we start reading them in order. It seems that many of fraudulent company profiles were written using the same pattern. But if we pay attention to `count_0f` bigrams in indexes \\[8, ..., 15\\] we see a similar situation. Isn't it strange?..\n",
    "\n",
    "Enough, however. Time to prepare our features for fitting models."
   ]
  },
  {
   "cell_type": "code",
   "execution_count": 113,
   "metadata": {},
   "outputs": [],
   "source": [
    "data.to_csv('fake_job_postings_prepared_v2.csv', index=None)"
   ]
  },
  {
   "cell_type": "markdown",
   "metadata": {},
   "source": [
    "## Creation of features on which models can be trained"
   ]
  },
  {
   "cell_type": "code",
   "execution_count": 114,
   "metadata": {},
   "outputs": [],
   "source": [
    "data = pd.read_csv('fake_job_postings_prepared_v2.csv')"
   ]
  },
  {
   "cell_type": "code",
   "execution_count": null,
   "metadata": {},
   "outputs": [],
   "source": []
  }
 ],
 "metadata": {
  "kernelspec": {
   "display_name": "Python 3",
   "language": "python",
   "name": "python3"
  },
  "language_info": {
   "codemirror_mode": {
    "name": "ipython",
    "version": 3
   },
   "file_extension": ".py",
   "mimetype": "text/x-python",
   "name": "python",
   "nbconvert_exporter": "python",
   "pygments_lexer": "ipython3",
   "version": "3.7.7"
  }
 },
 "nbformat": 4,
 "nbformat_minor": 4
}
